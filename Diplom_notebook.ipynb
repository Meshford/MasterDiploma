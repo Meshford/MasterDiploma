{
 "cells": [
  {
   "cell_type": "markdown",
   "id": "93a9bc94-9e56-45be-8f17-1967b4735b18",
   "metadata": {},
   "source": [
    "<p style=\"text-align: center;\">\n",
    "    Министерство науки и высшего образования Российской Федерации<br>\n",
    "    Федеральное государственное автономное образовательное учреждение высшего образования «Национальный исследовательский Нижегородский государственный университет им. Н.И. Лобачевского»<br>\n",
    "    <br>\n",
    "    Институт Информационных технологий, математики и механики<br>\n",
    "    <br><br><br>\n",
    "    Выпускная квалифиционная работа магистра<br>\n",
    "    <h1 style=\"text-align: center;\">Исследование влияния различных способов улучшения точности сегментации ЭКГ</h1>\n",
    "</p>\n",
    "<br><br><br><br><br>\n",
    "<p style = \"text-align: left; margin-left: 80%;\">\n",
    "    Выполнил:<br>\n",
    "    студент гр. 381803-1<br>\n",
    "    <p style = \"text-align: left; margin-left: 90%;\">\n",
    "        Мешалкин Н.А.\n",
    "    </p>\n",
    "</p>\n",
    "<br><br><br>\n",
    "<p style = \"text-align: left; margin-left: 80%;\">\n",
    "    Проверил:<br>\n",
    "    директор ИИТММ<br>\n",
    "    <p style = \"text-align: left; margin-left: 90%;\">\n",
    "        Золотых Ю.Н.\n",
    "    </p>\n",
    "</p>\n",
    "<br><br><br><br>\n",
    "<p style=\"text-align: center\">\n",
    "    Нижний Новгород<br>\n",
    "    2024\n",
    "</p>"
   ]
  },
  {
   "cell_type": "markdown",
   "id": "bb6ee604-547d-491f-8e46-4b392d303403",
   "metadata": {},
   "source": [
    "## Введение"
   ]
  },
  {
   "cell_type": "markdown",
   "id": "4aefc748-69f6-4e31-9531-996e3bbfcd20",
   "metadata": {},
   "source": [
    "**Описание работы:**\n",
    "Данная работа направлена на изучения влияния на точность сегментационных нейросетей различных способов улучшения точности сегментации. В этом исследовании будет рассмотрено несколько вариантов нейросетей с различными внутренними слоями от самых простых до самых сложных. В качестве нейронной сети, результаты которой следует превзойти, представлена сегментационная нейросеть, подготовленная учеными ННГУ. Данная сеть написана на основе популярной сегментационной сети U-Net. Отличие лишь в том, что данная нейросеть адаптирована под 1D сигнал. Также в качестве базы данных была выбрана собственная база данных ЭКГ, собранная сотрудниками ННГУ. В основе этой базы данных лежат сигналы ЭКГ в 12 отведениях 746 пациентов с частотой дискретизации 500 Гц."
   ]
  },
  {
   "cell_type": "markdown",
   "id": "419446d8-cb93-4294-8cf9-9fcce472d1a2",
   "metadata": {},
   "source": [
    "**Цель работы:**\n",
    "Необходимо проанализировать влияние на точность нейросети различных внутренних слоев. Провести сравнительный анализ, а также сделать заключение о налиучшем варианте нейронной сети, которая будет показывать наилучшую точность."
   ]
  },
  {
   "cell_type": "markdown",
   "id": "850fc8da-647d-4044-8e2e-1fafb7913b0a",
   "metadata": {},
   "source": [
    "Данная работа состоит из двух частей: \n",
    "1) Разработка собственной нейросети для сегментации сигналов ЭКГ. Разработка будет разобрана шаг за шагом, чтобы можно было отследить влияние на точность различных внутренних слоев, которые будут постепенно добавляться в нейронную сеть.\n",
    "2) Работа над сегментационной нейросетью от ученых ННГУ. "
   ]
  },
  {
   "cell_type": "markdown",
   "id": "3d8eb98e-bb96-4663-bd38-93e406ad6c0d",
   "metadata": {},
   "source": [
    "## Часть 1. Разработка собственной нейронной сети."
   ]
  },
  {
   "cell_type": "markdown",
   "id": "43d6a853-1504-49c5-90f3-64c6b0e69f6c",
   "metadata": {},
   "source": [
    "Данный раздел состоит из множества шагов, потому что разработка нейронной сети сложный и трудоемкий процесс. "
   ]
  },
  {
   "cell_type": "markdown",
   "id": "8e12ab64-0136-4ebe-acf1-f1ab3649f632",
   "metadata": {},
   "source": [
    "### 1.1 Анализ данных."
   ]
  },
  {
   "cell_type": "markdown",
   "id": "d39c0746-42dc-4e9a-b475-520c6870e59a",
   "metadata": {},
   "source": [
    "В качестве данных мы используем сигнал ЭКГ в 12 отведениях с частотой дискретизации 500Гц. В первую очередь необходимо посмотреть на данные."
   ]
  },
  {
   "cell_type": "code",
   "execution_count": 1,
   "id": "33a81426-acf2-4f0a-a7f0-69e4cb122525",
   "metadata": {},
   "outputs": [],
   "source": [
    "# Импорт необходимых библиотек\n",
    "import torch\n",
    "import torch.nn as nn\n",
    "import torch.nn.functional as F\n",
    "from torch.utils.data import DataLoader, random_split\n",
    "from torch.nn import Module\n",
    "from typing import Literal\n",
    "import numpy as np\n",
    "from torch.utils.data import Dataset\n",
    "import glob\n",
    "import torch\n",
    "import torch.nn.functional as F\n",
    "from torch import optim\n",
    "import torch.nn.functional as functional\n",
    "import matplotlib.pyplot as plt"
   ]
  },
  {
   "cell_type": "code",
   "execution_count": 2,
   "id": "94c1d760-ab9c-4250-a954-a7fbc7d0bcad",
   "metadata": {},
   "outputs": [],
   "source": [
    "# Вспомогательные функции, превращающие маску в сегментацию\n",
    "sample_rate = 500\n",
    "v_to_del = {1:'p', 2:'qrs', 3:'t'}\n",
    "\n",
    "def remove_small(signal):\n",
    "    max_dist = 12\n",
    "    last_zero = 0\n",
    "    for i in range(len(signal)):\n",
    "        if signal[i] == 0:\n",
    "            if i - last_zero < max_dist:\n",
    "                signal[last_zero:i] = 0\n",
    "            last_zero = i\n",
    "\n",
    "def merge_small(signal):\n",
    "    max_dist = 12\n",
    "    lasts = np.full(signal.max() + 1, -(max_dist+1))\n",
    "    for i in range(len(signal)):\n",
    "        m = signal[i]\n",
    "        if i - lasts[m] < max_dist and m > 0:\n",
    "            signal[lasts[m]:i] = m\n",
    "        lasts[m] = i\n",
    "\n",
    "def mask_to_delineation(mask):\n",
    "    merge_small(mask)\n",
    "    remove_small(mask)\n",
    "    delineation = {'p':[], 'qrs':[], 't':[]}\n",
    "    i = 0\n",
    "    mask_length = len(mask)\n",
    "    while i < mask_length:\n",
    "        v = mask[i]\n",
    "        if v > 0:\n",
    "            delineation[v_to_del[v]].append([i, 0])\n",
    "            while i < mask_length and mask[i] == v:\n",
    "                delineation[v_to_del[v]][-1][1] = i\n",
    "                i += 1\n",
    "            t = delineation[v_to_del[v]][-1]\n",
    "        i += 1\n",
    "    return delineation\n",
    "\n",
    "wave_type_to_color = {\n",
    "    \"p\": \"yellow\",\n",
    "    \"qrs\": \"red\",\n",
    "    \"t\": \"green\"\n",
    "}\n",
    "\n",
    "def plot_signal_with_mask(signal, mask):\n",
    "    plt.figure(figsize=(18, 5))\n",
    "    plt.title(\"Сигнал с маской\")\n",
    "    plt.xlabel(\"Время (сек)\")\n",
    "    plt.ylabel(\"Амплитуда (мВ)\")\n",
    "    x_axis_values = np.linspace(0, len(signal) / sample_rate, len(signal))\n",
    "    plt.plot(x_axis_values, signal, linewidth=2, color=\"black\")\n",
    "    \n",
    "    delineation = mask_to_delineation(mask)\n",
    "    for wave_type in [\"p\", \"qrs\", \"t\"]:\n",
    "        color = wave_type_to_color[wave_type]\n",
    "        for begin, end in delineation[wave_type]:\n",
    "            begin /= sample_rate\n",
    "            end /= sample_rate\n",
    "            plt.axvspan(begin, end, facecolor=color, alpha=0.5)"
   ]
  },
  {
   "cell_type": "code",
   "execution_count": 3,
   "id": "950b3649-1d36-494d-a552-6334268d0d44",
   "metadata": {},
   "outputs": [
    {
     "data": {
      "image/png": "[encoded data removed]",
      "text/plain": [
       "<Figure size 1800x500 with 1 Axes>"
      ]
     },
     "metadata": {},
     "output_type": "display_data"
    }
   ],
   "source": [
    "signals = np.load(\"/home/meshalkin/Diplom/ludb/data/signals/00001_hr_unsupervised.npy\")\n",
    "masks = np.load(\"/home/meshalkin/Diplom/ludb/data/masks/00001_hr_unsupervised.npy\")\n",
    "index = 3\n",
    "plot_signal_with_mask(signals[index], masks[index])"
   ]
  },
  {
   "cell_type": "markdown",
   "id": "a93e1090-ac2e-4753-b924-9af6bb2fdcab",
   "metadata": {},
   "source": [
    "Так выглядит сигнал и оригинальная маска. Будем надеяться, что наша нейросеть, покажет такие же результаты!"
   ]
  },
  {
   "cell_type": "markdown",
   "id": "e8e6190e-524e-4398-82ee-f8ec7781fa38",
   "metadata": {},
   "source": [
    "### 1.2. Разработка метрики для контроля качества модели."
   ]
  },
  {
   "cell_type": "markdown",
   "id": "3973b7a0-f74e-4bea-9342-9d5899121835",
   "metadata": {},
   "source": [
    "В коде, приведенном ниже производится разработка собственной метрики, основанной на f1score, precision, recall и confusion_matrix. Данная метрика будет отслеживать качество работы модели"
   ]
  },
  {
   "cell_type": "code",
   "execution_count": 4,
   "id": "363b040a-50e5-44d0-8066-a5733ef70f48",
   "metadata": {},
   "outputs": [],
   "source": [
    "class SegmentationMetric:\n",
    "    def __init__(self,\n",
    "                 monitor: Literal['p', 'qrs', 't', 'all'] = 'all',\n",
    "                 orientation_type: Literal['onset', 'offset', 'all'] = 'all',\n",
    "                 return_type: Literal['precision', 'recall', 'f1', 'confusion_matrix'] = 'confusion_matrix',\n",
    "                 samples=75):\n",
    "\n",
    "        assert monitor in ['p', 'qrs', 't', 'all']\n",
    "        assert orientation_type in ['onset', 'offset', 'all']\n",
    "        assert return_type in ['precision', 'recall', 'f1', 'confusion_matrix']\n",
    "\n",
    "        self.samples = samples\n",
    "        self.monitor = monitor\n",
    "        self.orientation_type = orientation_type\n",
    "        self.return_type = return_type\n",
    "        \n",
    "        self.metric_to_func = {'precision': self.__precision,\n",
    "                               'recall': self.__recall,\n",
    "                               'f1': self.__f1}\n",
    "\n",
    "    def __call__(self, y_pred, y_true):\n",
    "        assert y_pred.shape == y_true.shape\n",
    "        assert len(y_pred.shape) == 2 # Это для батча или для каналов ?\n",
    "        \n",
    "        matrix = np.zeros((2, 2), dtype=int)\n",
    "        monitors = ['p', 'qrs', 't'] if self.monitor == 'all' else [self.monitor]\n",
    "        orientations = ['onset', 'offset'] if self.orientation_type == 'all' else [self.orientation_type]\n",
    "        for wave in monitors:\n",
    "            for orientation in orientations:\n",
    "                matrix += self.__handle(y_pred, y_true, wave, orientation)\n",
    "        \n",
    "        if self.return_type == 'confusion_matrix':\n",
    "            return matrix\n",
    "\n",
    "        return self.metric_to_func[self.return_type](matrix[0, 1], matrix[1, 0], matrix[1, 1])\n",
    "\n",
    "    def __handle(self, y_pred, y_true, wave, orientation) -> tuple[int, int, int]:\n",
    "        \n",
    "        index = ['p', 'qrs', 't'].index(wave) + 1\n",
    "        orientation = 2 * ['offset', 'onset'].index(orientation) - 1\n",
    "        y_pred[y_true == 4] = 0\n",
    "\n",
    "        y_true, y_pred = (y_true == index), (y_pred == index)\n",
    "\n",
    "        wave_true = np.logical_and(np.roll(y_true, orientation) != 1, y_true == 1).astype(int)\n",
    "        wave_pred = np.logical_and(np.roll(y_pred, orientation) != 1, y_pred == 1).astype(int)\n",
    "\n",
    "        true_batch, true_indexes = np.where(wave_true == 1)\n",
    "        \n",
    "        tp = fn = 0\n",
    "        \n",
    "        for batch, x in zip(true_batch, true_indexes):\n",
    "            wave = wave_pred[batch][x - self.samples // 2: x + self.samples // 2]\n",
    "            if wave.sum():\n",
    "                tp += 1\n",
    "            else:\n",
    "                fn += 1\n",
    "            wave[:] = -1\n",
    "        \n",
    "        fp = (wave_pred[:, self.samples:-self.samples] == 1).sum()\n",
    "        return np.array([[0, fp], [fn, tp]])\n",
    "    \n",
    "    @staticmethod\n",
    "    def __precision(fp, fn, tp):\n",
    "        if fp + tp == 0:\n",
    "            return 1\n",
    "        return tp / (tp + fp)\n",
    "    \n",
    "    @staticmethod\n",
    "    def __recall(fp, fn, tp):\n",
    "        if fn + tp == 0:\n",
    "            return 1\n",
    "        return tp / (tp + fn)\n",
    "    \n",
    "    @staticmethod\n",
    "    def __f1(fp, fn, tp):\n",
    "        precision = SegmentationMetric.__precision(fp, fn, tp)\n",
    "        recall = SegmentationMetric.__recall(fp, fn, tp)\n",
    "        if precision + recall == 0:\n",
    "            return 1\n",
    "        return 2 * (precision * recall) / (precision + recall)\n",
    "    \n",
    "    def __str__(self):\n",
    "        return f'{self.monitor}_{self.orientation_type}'"
   ]
  },
  {
   "cell_type": "markdown",
   "id": "f352d955-6e4f-46e7-a285-9073a50b40ef",
   "metadata": {},
   "source": [
    "### 1.3. Создание датасета для загрузки данных."
   ]
  },
  {
   "cell_type": "markdown",
   "id": "f714bf6e-2004-46f7-854d-ef1a4b050c60",
   "metadata": {},
   "source": [
    "Необходимым шагом является правильная загрузка данных, уравнивание длины сигнала, если это необходимо, разделение данных на тренировочную и тестовую выбороки."
   ]
  },
  {
   "cell_type": "code",
   "execution_count": 5,
   "id": "0ffa1a9e-6378-4b50-84dc-a912267a40df",
   "metadata": {},
   "outputs": [
    {
     "name": "stdout",
     "output_type": "stream",
     "text": [
      "Размеры сигналов и масок с батчом = 2:\n",
      "Размер сигнала = torch.Size([2, 12, 5000])\n",
      "Размер маски = torch.Size([2, 12, 5000])\n"
     ]
    }
   ],
   "source": [
    "batch_size = 2\n",
    "class SignalDataset(Dataset):\n",
    "    def __init__(self, data_folder, label_folder, max_length=5000):\n",
    "        self.data_files = glob.glob(f'{data_folder}/*.npy')\n",
    "        self.label_files = glob.glob(f'{label_folder}/*.npy')\n",
    "        self.max_length = max_length\n",
    "\n",
    "    def __len__(self):\n",
    "        return len(self.data_files)\n",
    "\n",
    "    def __getitem__(self, idx):\n",
    "        data = np.load(self.data_files[idx])\n",
    "        labels = np.load(self.label_files[idx])\n",
    "\n",
    "        # Обрезка данных и меток, если длина превышает max_length\n",
    "        if data.shape[1] > self.max_length:\n",
    "            data = data[:, :self.max_length]\n",
    "            labels = labels[:, :self.max_length]\n",
    "\n",
    "        return torch.from_numpy(data).float(), torch.from_numpy(labels).long()\n",
    "\n",
    "# Использование DataLoader\n",
    "data_folder = '/home/meshalkin/Diplom/ludb/data/signals'\n",
    "label_folder = '/home/meshalkin/Diplom/ludb/data/masks'\n",
    "dataset = SignalDataset(data_folder, label_folder)\n",
    "\n",
    "# Например, 20% для валидации\n",
    "val_size = int(0.2 * len(dataset))\n",
    "train_size = len(dataset) - val_size\n",
    "\n",
    "# Разделите датасет на тренировочный и валидационный\n",
    "train_dataset, val_dataset = random_split(dataset, [train_size, val_size])\n",
    "\n",
    "# Создайте DataLoader для обоих датасетов\n",
    "train_loader = DataLoader(train_dataset, batch_size=batch_size, shuffle=True)\n",
    "val_loader = DataLoader(val_dataset, batch_size=batch_size, shuffle=False)  # shuffle обычно не нужен для валидации\n",
    "\n",
    "for i, (signal, label) in enumerate(train_loader):\n",
    "    print(f\"Размеры сигналов и масок с батчом = {batch_size}:\")\n",
    "    print(f\"Размер сигнала = {label.shape}\")\n",
    "    print(f\"Размер маски = {signal.shape}\")\n",
    "    break"
   ]
  },
  {
   "cell_type": "markdown",
   "id": "9775384b-81da-4a09-b704-93c104d4d53a",
   "metadata": {},
   "source": [
    "### 1.4. Разработка собственной неросети."
   ]
  },
  {
   "cell_type": "markdown",
   "id": "e62ac786-7925-4f6d-b459-603f5a291f84",
   "metadata": {},
   "source": [
    "#### 1.4.1 Разработка версии №1. Простейшая full-convolutional сеть."
   ]
  },
  {
   "cell_type": "markdown",
   "id": "33c62cb9-3987-4327-917f-2ab1ae6536fa",
   "metadata": {},
   "source": [
    "Начнем с простой нейронной сети с тремя сверточноми слоями внутри. Так как маска распространяется вдоль всех каналов, мы можем объединить их и выдавать результат в виде распределения вероятностей по нашим классам. Точнее будет сказать, что все таки выход будет иметь ненормализированные числа, они нормализуются в процессе обучения.  \n",
    "То есть, наши данные имеют размер [2,12,5000], где 2 - размер батча, 12 - количество каналов, 5000 - длина сигнала, то выход нейронной сети будет иметь размер [2,4,5000], где 2 - размер батча, 12 - количество классов, 5000 - длина сигнала."
   ]
  },
  {
   "cell_type": "code",
   "execution_count": 6,
   "id": "db80ec24-4b2d-407b-89b2-f79cb945a27c",
   "metadata": {},
   "outputs": [
    {
     "name": "stdout",
     "output_type": "stream",
     "text": [
      "Размер входа: torch.Size([2, 12, 5000])\n",
      "Размер выхода: torch.Size([2, 4, 5000])\n"
     ]
    }
   ],
   "source": [
    "device = torch.device(\"cuda\" if torch.cuda.is_available() else \"cpu\")\n",
    "class SegmentationNetwork(nn.Module):\n",
    "    def __init__(self, num_channels, num_classes):\n",
    "        super(SegmentationNetwork, self).__init__()\n",
    "        self.conv1 = nn.Conv1d(num_channels, 64, kernel_size=3, padding=1)\n",
    "        self.conv2 = nn.Conv1d(64, 64, kernel_size=3, padding=1)\n",
    "        self.conv3 = nn.Conv1d(64, num_classes, kernel_size=3, padding=1)\n",
    "\n",
    "    def forward(self, x):\n",
    "        x = torch.relu(self.conv1(x))\n",
    "        x = torch.relu(self.conv2(x))\n",
    "        x = self.conv3(x)\n",
    "        return x\n",
    "\n",
    "# Пример использования\n",
    "batch_size = 2\n",
    "num_channels = 12\n",
    "length = 5000\n",
    "num_classes = 4\n",
    "\n",
    "# Создание модели\n",
    "model = SegmentationNetwork(num_channels, num_classes).to(device)\n",
    "\n",
    "# Создание случайных входных данных\n",
    "inputs = torch.randn(batch_size, num_channels, length)\n",
    "\n",
    "# Проход через сеть\n",
    "outputs = model(inputs.to(device))\n",
    "print(f\"Размер входа: {inputs.shape}\")\n",
    "print(f\"Размер выхода: {outputs.shape}\")  # Распечатает: torch.Size([2, 4, 5000])"
   ]
  },
  {
   "cell_type": "markdown",
   "id": "1a973dfe-bba3-4e52-a4b6-7678d72ea151",
   "metadata": {},
   "source": [
    "Напишем обучающую функцию для данной сети:"
   ]
  },
  {
   "cell_type": "code",
   "execution_count": 7,
   "id": "199223ef-c246-4df2-8394-4676d41714df",
   "metadata": {},
   "outputs": [
    {
     "name": "stdout",
     "output_type": "stream",
     "text": [
      "Epoch 1/20, Loss: 0.9107116305982912\n",
      "Epoch 2/20, Loss: 0.8310911239354641\n",
      "Epoch 3/20, Loss: 0.810581589093456\n",
      "Epoch 4/20, Loss: 0.7957175445634049\n",
      "Epoch 5/20, Loss: 0.7766511578645025\n",
      "Epoch 6/20, Loss: 0.758515783331611\n",
      "Epoch 7/20, Loss: 0.743146370273906\n",
      "Epoch 8/20, Loss: 0.7289919098476311\n",
      "Epoch 9/20, Loss: 0.7179090499684408\n",
      "Epoch 10/20, Loss: 0.7074661811257338\n",
      "Epoch 11/20, Loss: 0.6982653497101424\n",
      "Epoch 12/20, Loss: 0.6892857104539871\n",
      "Epoch 13/20, Loss: 0.6840200850909407\n",
      "Epoch 14/20, Loss: 0.6729757837080336\n",
      "Epoch 15/20, Loss: 0.6651047398517658\n",
      "Epoch 16/20, Loss: 0.6566105393039716\n",
      "Epoch 17/20, Loss: 0.6494584144516424\n",
      "Epoch 18/20, Loss: 0.6419491538560236\n",
      "Epoch 19/20, Loss: 0.6393212319000975\n",
      "Epoch 20/20, Loss: 0.6341367575835872\n"
     ]
    }
   ],
   "source": [
    "\n",
    "def train(model, train_loader, num_epochs=20, learning_rate=0.001):\n",
    "    criterion = nn.CrossEntropyLoss()\n",
    "    optimizer = optim.Adam(model.parameters(), lr=learning_rate)\n",
    "    model.to(device)\n",
    "    for epoch in range(num_epochs):\n",
    "        model.train()\n",
    "        running_loss = 0.0\n",
    "        \n",
    "        for inputs, targets in train_loader:\n",
    "            targets = targets[:, 0, :].to(device)\n",
    "            optimizer.zero_grad()\n",
    "            outputs = model(inputs.to(device))\n",
    "            loss = criterion(outputs.to(device), targets)\n",
    "            loss.backward()\n",
    "            optimizer.step()\n",
    "            running_loss += loss.item()\n",
    "        \n",
    "        print(f'Epoch {epoch+1}/{num_epochs}, Loss: {running_loss/len(train_loader)}')\n",
    "\n",
    "# Пример использования\n",
    "batch_size = 2\n",
    "num_channels = 12\n",
    "length = 5000\n",
    "num_classes = 4\n",
    "\n",
    "# Создание модели\n",
    "model = SegmentationNetwork(num_channels, num_classes)\n",
    "\n",
    "# Тренировка модели\n",
    "train(model, train_loader)"
   ]
  },
  {
   "cell_type": "code",
   "execution_count": 8,
   "id": "da5e8403-3764-4a0a-b251-ba6be897cb39",
   "metadata": {},
   "outputs": [
    {
     "name": "stdout",
     "output_type": "stream",
     "text": [
      "Current f1 score:\n",
      "p_onset: 0.38%\n",
      "p_offset: 0.43%\n",
      "t_onset: 0.46%\n",
      "t_offset: 0.51%\n",
      "qrs_onset: 0.82%\n",
      "qrs_offset: 0.85%\n"
     ]
    }
   ],
   "source": [
    "def validate_model_with_metrics(model, validation_loader, metric, device):\n",
    "    model.to(device)\n",
    "    model.eval()\n",
    "    all_metrics = []\n",
    "\n",
    "    for inputs, labels in validation_loader:\n",
    "        inputs = inputs.to(device)\n",
    "        outputs = model(inputs)\n",
    "            \n",
    "        # Переводим outputs в формат [batch_size, length, num_channels], где num_channels - это наши классы\n",
    "        _, outputs = torch.max(F.softmax(outputs, dim=1), dim=1)  # получаем наиболее вероятные классы\n",
    "        if(outputs.shape[0] > 1):\n",
    "            outputs = torch.cat([outputs[0], outputs[1]], dim=0).cpu() \n",
    "        else:\n",
    "            outputs = outputs[0]\n",
    "        \n",
    "        outputs = outputs.unsqueeze(0) \n",
    "        outputs = outputs.expand(12, *outputs.shape[1:]).cpu() # считаем по батчу и объединяем, дублируем на 12 -> (12,10000)\n",
    "        if(labels.shape[0] > 1):\n",
    "            labels = torch.cat([labels[0],labels[1]], dim=1).cpu() # считаем по батчу и объединяем -> (12,10000)\n",
    "        else:\n",
    "            labels = labels[0]\n",
    "        all_metrics.append(metric(outputs.numpy(), labels.numpy()))\n",
    "    \n",
    "    # Средний расчет всех метрик по всем батчам\n",
    "    if metric.return_type == 'confusion_matrix':\n",
    "        final_metrics = np.sum(all_metrics, axis=0)\n",
    "    else:\n",
    "        final_metrics = np.mean(all_metrics, axis=0)\n",
    "\n",
    "    return final_metrics\n",
    "\n",
    "# Пример использования:\n",
    "device = torch.device(\"cuda\" if torch.cuda.is_available() else \"cpu\")\n",
    "monitor= ['p', 't', 'qrs']\n",
    "orintation_type = ['onset', 'offset']\n",
    "print(\"Current f1 score:\")\n",
    "for m in monitor:\n",
    "    for o in orintation_type:   \n",
    "        metric = SegmentationMetric(monitor=m, orientation_type=o, return_type='f1', samples=75)\n",
    "        validation_metrics = validate_model_with_metrics(model, val_loader, metric, device)\n",
    "        print(f\"{m}_{o}: {round(validation_metrics, 2)}%\")"
   ]
  },
  {
   "cell_type": "raw",
   "id": "f67d2888-88ad-4d6e-818a-187c2f61405f",
   "metadata": {},
   "source": [
    "Результаты выше - результаты нашей собственной метрики самой простейшей модели с тремя внутренними сверточными слоями. Как можно заметить, результаты лишь в половине случаев предсказывают верное расположение t и qrs волн. Что касается p волны, то здесь результаты хуже, лишь в ~30% случаев расположение p волны будет указано верно. Такие результаты говорят о том, что нам следует усложнить нашу модель, чтобы улучшить значения метрики."
   ]
  },
  {
   "cell_type": "markdown",
   "id": "c4f4741d-8210-4678-9dc8-3e800d748023",
   "metadata": {},
   "source": [
    "#### 1.4.2 Разработка версии №2. Усложненная full-convolutional сеть с добавлением дополнительных сверточных слоев и слоев пулинга."
   ]
  },
  {
   "cell_type": "markdown",
   "id": "40c11f0b-eab2-4b98-8d32-d9007ae89191",
   "metadata": {},
   "source": [
    "В данном разделе интересно было бы проверить предыдущую нейронную сеть с добавлением дополнительных сверточных слоев лои пулинга для увеличения ее способности к извлечению признаков и повышения точности сегментации."
   ]
  },
  {
   "cell_type": "code",
   "execution_count": 11,
   "id": "020ef2f7-a645-4be0-9455-b15224b96867",
   "metadata": {},
   "outputs": [
    {
     "name": "stdout",
     "output_type": "stream",
     "text": [
      "Размер входа: torch.Size([2, 12, 5000])\n",
      "Размер выхода: torch.Size([2, 4, 5000])\n"
     ]
    }
   ],
   "source": [
    "class SegmentationNetworkWithPooling(nn.Module):\n",
    "    def __init__(self, num_channels, num_classes):\n",
    "        super(SegmentationNetworkWithPooling, self).__init__()\n",
    "        self.conv1 = nn.Conv1d(num_channels, 32, kernel_size=3, padding=1)\n",
    "        self.conv2 = nn.Conv1d(32, 64, kernel_size=3, padding=1)\n",
    "        self.conv3 = nn.Conv1d(64, 128, kernel_size=3, padding=1)\n",
    "        self.conv4 = nn.Conv1d(128, 128, kernel_size=3, padding=1)\n",
    "        self.conv5 = nn.Conv1d(128, num_classes, kernel_size=3, padding=1)\n",
    "        self.pool = nn.MaxPool1d(kernel_size=3, stride=1, padding=1)\n",
    "\n",
    "    def forward(self, x):\n",
    "        x = torch.relu(self.conv1(x))\n",
    "        x = torch.relu(self.conv2(x))\n",
    "        x = self.pool(x)  # Добавляем пулинг со stride=1 и kernel_size=3\n",
    "        x = torch.relu(self.conv3(x))\n",
    "        x = torch.relu(self.conv4(x))\n",
    "        x = self.conv5(x)\n",
    "        return x\n",
    "\n",
    "# Пример использования\n",
    "batch_size = 2\n",
    "num_channels = 12\n",
    "length = 5000\n",
    "num_classes = 4\n",
    "\n",
    "# Создание модели\n",
    "model = SegmentationNetwork(num_channels, num_classes).to(device)\n",
    "\n",
    "# Создание случайных входных данных\n",
    "inputs = torch.randn(batch_size, num_channels, length)\n",
    "\n",
    "# Проход через сеть\n",
    "outputs = model(inputs.to(device))\n",
    "\n",
    "print(f\"Размер входа: {inputs.shape}\")\n",
    "print(f\"Размер выхода: {outputs.shape}\")  # Распечатает: torch.Size([2, 4, 5000])"
   ]
  },
  {
   "cell_type": "markdown",
   "id": "0b6aa5ef-0de9-4783-8d1c-0d3147d319e3",
   "metadata": {},
   "source": [
    "Теперь обучим данную сеть:"
   ]
  },
  {
   "cell_type": "code",
   "execution_count": 12,
   "id": "f14f7c6e-895f-4aa4-a40f-b7684117a3c3",
   "metadata": {},
   "outputs": [
    {
     "name": "stdout",
     "output_type": "stream",
     "text": [
      "Epoch 1/20, Loss: 0.8732695236995622\n",
      "Epoch 2/20, Loss: 0.7724130362659306\n",
      "Epoch 3/20, Loss: 0.7358157496367183\n",
      "Epoch 4/20, Loss: 0.7136388083363508\n",
      "Epoch 5/20, Loss: 0.6984711809978856\n",
      "Epoch 6/20, Loss: 0.6791554085620037\n",
      "Epoch 7/20, Loss: 0.6684322147206827\n",
      "Epoch 8/20, Loss: 0.6475532745773142\n",
      "Epoch 9/20, Loss: 0.6362113259829484\n",
      "Epoch 10/20, Loss: 0.6229480428548603\n",
      "Epoch 11/20, Loss: 0.6239411302588203\n",
      "Epoch 12/20, Loss: 0.610577665656418\n",
      "Epoch 13/20, Loss: 0.6070154219285234\n",
      "Epoch 14/20, Loss: 0.5999381524788869\n",
      "Epoch 15/20, Loss: 0.591483116730467\n",
      "Epoch 16/20, Loss: 0.5896994816985998\n",
      "Epoch 17/20, Loss: 0.58695823708912\n",
      "Epoch 18/20, Loss: 0.5838740701218704\n",
      "Epoch 19/20, Loss: 0.5759387813605271\n",
      "Epoch 20/20, Loss: 0.5732320650637924\n"
     ]
    }
   ],
   "source": [
    "batch_size = 2\n",
    "num_channels = 12\n",
    "length = 5000\n",
    "num_classes = 4\n",
    "\n",
    "# Создание модели\n",
    "model = SegmentationNetworkWithPooling(num_channels, num_classes).to(device)\n",
    "\n",
    "# Тренировка модели\n",
    "train(model, train_loader)"
   ]
  },
  {
   "cell_type": "code",
   "execution_count": 13,
   "id": "28104072-2a00-4c15-b398-c81eaddee241",
   "metadata": {},
   "outputs": [
    {
     "name": "stdout",
     "output_type": "stream",
     "text": [
      "Current f1 score:\n",
      "p_onset: 0.42%\n",
      "p_offset: 0.5%\n",
      "t_onset: 0.5%\n",
      "t_offset: 0.56%\n",
      "qrs_onset: 0.88%\n",
      "qrs_offset: 0.9%\n"
     ]
    }
   ],
   "source": [
    "# Пример использования:\n",
    "device = torch.device(\"cuda\" if torch.cuda.is_available() else \"cpu\")\n",
    "monitor= ['p', 't', 'qrs']\n",
    "orintation_type = ['onset', 'offset']\n",
    "print(\"Current f1 score:\")\n",
    "for m in monitor:\n",
    "    for o in orintation_type:   \n",
    "        metric = SegmentationMetric(monitor=m, orientation_type=o, return_type='f1', samples=75)\n",
    "        validation_metrics = validate_model_with_metrics(model, val_loader, metric, device)\n",
    "        print(f\"{m}_{o}: {round(validation_metrics, 2)}%\")"
   ]
  },
  {
   "cell_type": "markdown",
   "id": "5934f727-c8c7-402d-ab2a-b871e5639c6f",
   "metadata": {},
   "source": [
    "Можно заметить как увеличились значения наших метрик. Теперь p волна определяется правильно примерно в ~80% случаев, t волна определяется правильно примерно в ~60% случаев, а qrs сегмент остался на уровне ~55%."
   ]
  },
  {
   "cell_type": "markdown",
   "id": "01b951bb-1c67-4ef4-86aa-1cc38785c196",
   "metadata": {},
   "source": [
    "#### 1.4.3 Разработка версии №3. Более глубокая усложненная full-convolutional сеть с добавлением дополнительных сверточных слоев и слоев пулинга."
   ]
  },
  {
   "cell_type": "markdown",
   "id": "cb966544-0950-4980-80cf-8bb371d8450a",
   "metadata": {},
   "source": [
    "Давайте добавим еще один блок свертки-пулинга для увеличения глубины и сложности модели. Также мы можем увеличить количество фильтров в каждом сверточном слое для более глубокого извлечения признаков. Вот обновленная версия модели:"
   ]
  },
  {
   "cell_type": "code",
   "execution_count": 14,
   "id": "5a19ece1-1e60-4b6f-a10e-e6e06d93db83",
   "metadata": {},
   "outputs": [
    {
     "name": "stdout",
     "output_type": "stream",
     "text": [
      "torch.Size([2, 4, 5000])\n"
     ]
    }
   ],
   "source": [
    "import torch\n",
    "import torch.nn as nn\n",
    "\n",
    "class HardSegmentationNetworkWithPooling(nn.Module):\n",
    "    def __init__(self, num_channels, num_classes):\n",
    "        super(HardSegmentationNetworkWithPooling, self).__init__()\n",
    "        self.conv1 = nn.Conv1d(num_channels, 64, kernel_size=3, padding=1)\n",
    "        self.conv2 = nn.Conv1d(64, 128, kernel_size=3, padding=1)\n",
    "        self.conv3 = nn.Conv1d(128, 256, kernel_size=3, padding=1)\n",
    "        self.conv4 = nn.Conv1d(256, 512, kernel_size=3, padding=1)\n",
    "        self.conv5 = nn.Conv1d(512, 512, kernel_size=3, padding=1)\n",
    "        self.conv6 = nn.Conv1d(512, 512, kernel_size=3, padding=1)\n",
    "        self.conv7 = nn.Conv1d(512, 512, kernel_size=3, padding=1)\n",
    "        self.conv8 = nn.Conv1d(512, num_classes, kernel_size=3, padding=1)\n",
    "        self.pool = nn.MaxPool1d(kernel_size=3, stride=1, padding=1)\n",
    "\n",
    "    def forward(self, x):\n",
    "        x = torch.relu(self.conv1(x))\n",
    "        x = self.pool(x)\n",
    "        x = torch.relu(self.conv2(x))\n",
    "        x = self.pool(x)\n",
    "        x = torch.relu(self.conv3(x))\n",
    "        x = self.pool(x)\n",
    "        x = torch.relu(self.conv4(x))\n",
    "        x = self.pool(x)\n",
    "        x = torch.relu(self.conv5(x))\n",
    "        x = self.pool(x)\n",
    "        x = torch.relu(self.conv6(x))\n",
    "        x = self.pool(x)\n",
    "        x = torch.relu(self.conv7(x))\n",
    "        x = self.pool(x)\n",
    "        x = self.conv8(x)\n",
    "        return x\n",
    "\n",
    "# Пример использования\n",
    "batch_size = 2\n",
    "num_channels = 12\n",
    "length = 5000\n",
    "num_classes = 4\n",
    "\n",
    "# Создание модели\n",
    "model = SegmentationNetwork(num_channels, num_classes)\n",
    "\n",
    "# Создание случайных входных данных\n",
    "inputs = torch.randn(batch_size, num_channels, length)\n",
    "\n",
    "# Проход через сеть\n",
    "outputs = model(inputs)\n",
    "\n",
    "print(outputs.shape)  # Распечатает: torch.Size([2, 4, 5000])\n"
   ]
  },
  {
   "cell_type": "markdown",
   "id": "cc79d909-1a54-4934-9d4c-0404a2809673",
   "metadata": {},
   "source": [
    "Натренируем модель:"
   ]
  },
  {
   "cell_type": "code",
   "execution_count": 15,
   "id": "9f0033ff-44c0-4729-b873-c1ce41f9faa5",
   "metadata": {},
   "outputs": [
    {
     "name": "stdout",
     "output_type": "stream",
     "text": [
      "Epoch 1/20, Loss: 0.8525674770791809\n",
      "Epoch 2/20, Loss: 0.7283802487246402\n",
      "Epoch 3/20, Loss: 0.6798245737498457\n",
      "Epoch 4/20, Loss: 0.6460889961038317\n",
      "Epoch 5/20, Loss: 0.6244799911782339\n",
      "Epoch 6/20, Loss: 0.6081230048235361\n",
      "Epoch 7/20, Loss: 0.5868251238550458\n",
      "Epoch 8/20, Loss: 0.567217147679298\n",
      "Epoch 9/20, Loss: 0.5652847698369583\n",
      "Epoch 10/20, Loss: 0.5492625278118369\n",
      "Epoch 11/20, Loss: 0.5452114213016126\n",
      "Epoch 12/20, Loss: 0.5414040609226598\n",
      "Epoch 13/20, Loss: 0.5317328899324715\n",
      "Epoch 14/20, Loss: 0.5262701879074048\n",
      "Epoch 15/20, Loss: 0.5280979278606254\n",
      "Epoch 16/20, Loss: 0.5152999461180978\n",
      "Epoch 17/20, Loss: 0.5135620918076533\n",
      "Epoch 18/20, Loss: 0.509175465285004\n",
      "Epoch 19/20, Loss: 0.5025882630959734\n",
      "Epoch 20/20, Loss: 0.4986351662158192\n"
     ]
    }
   ],
   "source": [
    "batch_size = 2\n",
    "num_channels = 12\n",
    "length = 5000\n",
    "num_classes = 4\n",
    "\n",
    "# Создание модели\n",
    "model = HardSegmentationNetworkWithPooling(num_channels, num_classes).to(device)\n",
    "\n",
    "# Тренировка модели\n",
    "train(model, train_loader)"
   ]
  },
  {
   "cell_type": "code",
   "execution_count": 16,
   "id": "2564215a-eec3-484d-b204-052981a3a659",
   "metadata": {},
   "outputs": [
    {
     "name": "stdout",
     "output_type": "stream",
     "text": [
      "Current f1 score:\n",
      "p_onset: 0.49%\n",
      "p_offset: 0.51%\n",
      "t_onset: 0.61%\n",
      "t_offset: 0.61%\n",
      "qrs_onset: 0.9%\n",
      "qrs_offset: 0.93%\n"
     ]
    }
   ],
   "source": [
    "# Пример использования:\n",
    "device = torch.device(\"cuda\" if torch.cuda.is_available() else \"cpu\")\n",
    "monitor= ['p', 't', 'qrs']\n",
    "orintation_type = ['onset', 'offset']\n",
    "print(\"Current f1 score:\")\n",
    "for m in monitor:\n",
    "    for o in orintation_type:   \n",
    "        metric = SegmentationMetric(monitor=m, orientation_type=o, return_type='f1', samples=75)\n",
    "        validation_metrics = validate_model_with_metrics(model, val_loader, metric, device)\n",
    "        print(f\"{m}_{o}: {round(validation_metrics, 2)}%\")"
   ]
  },
  {
   "cell_type": "markdown",
   "id": "292f0bb8-2237-4905-bb17-e539c91bb5b8",
   "metadata": {},
   "source": [
    "В данном случае мы видим, что метрика показывает результаты хуже, после усложнения модели дополнительными слоями, потому что увеличение сложности модели не всегда приводит к улучшению ее производительности. Наоборот, в некоторых случаях это может привести к переобучению или затуханию градиентов, особенно если модель становится слишком глубокой или сложной для данной задачи."
   ]
  },
  {
   "cell_type": "markdown",
   "id": "f0fdf301-f078-405b-bc32-2afe18d12ef7",
   "metadata": {},
   "source": [
    "#### 1.4.4 Разработка версии №4. UNet-подобная сеть."
   ]
  },
  {
   "cell_type": "markdown",
   "id": "ad4455f3-755a-46af-be1c-b781a74fc7fb",
   "metadata": {},
   "source": [
    "Так как элементарное углубление модели для данной задачи с имеющимся количеством данных не приносит ожидаемых результатов, мы можем привести модель к уже имеющимся архитектурам, которые зарекомендовали себя в задаче сегментаци данных, поэтому ниже произведено приведение нашей модели к Unet-подобной архитектуре, добавив соединения между сверточными слоями и их транспонированными аналогами."
   ]
  },
  {
   "cell_type": "code",
   "execution_count": 17,
   "id": "df6c0359-a619-4a33-9ac3-4afa2ab0ecf5",
   "metadata": {},
   "outputs": [
    {
     "name": "stdout",
     "output_type": "stream",
     "text": [
      "torch.Size([2, 4, 5000])\n"
     ]
    }
   ],
   "source": [
    "import torch\n",
    "import torch.nn as nn\n",
    "\n",
    "class SimpleUNet(nn.Module):\n",
    "    def __init__(self, in_channels, out_channels):\n",
    "        super(SimpleUNet, self).__init__()\n",
    "\n",
    "        # Энкодер\n",
    "        self.encoder = nn.Sequential(\n",
    "            nn.Conv1d(in_channels, 64, kernel_size=3, padding=1),\n",
    "            nn.ReLU(inplace=True),\n",
    "            nn.Conv1d(64, 64, kernel_size=3, padding=1),\n",
    "            nn.ReLU(inplace=True),\n",
    "            nn.MaxPool1d(kernel_size=2, stride=2)\n",
    "        )\n",
    "\n",
    "        # Декодер\n",
    "        self.decoder = nn.Sequential(\n",
    "            nn.Conv1d(64, 64, kernel_size=3, padding=1),\n",
    "            nn.ReLU(inplace=True),\n",
    "            nn.Conv1d(64, out_channels, kernel_size=3, padding=1),\n",
    "            nn.ReLU(inplace=True),\n",
    "            nn.Upsample(scale_factor=2, mode='linear', align_corners=True)\n",
    "        )\n",
    "\n",
    "    def forward(self, x):\n",
    "        # Прямой проход через энкодер\n",
    "        x1 = self.encoder(x)\n",
    "        \n",
    "        # Прямой проход через декодер\n",
    "        output = self.decoder(x1)\n",
    "        return output\n",
    "\n",
    "# Пример использования\n",
    "batch_size = 2\n",
    "num_channels = 12\n",
    "length = 5000\n",
    "num_classes = 4\n",
    "\n",
    "# Создание модели\n",
    "model = SimpleUNet(num_channels, num_classes)\n",
    "\n",
    "# Создание случайных входных данных\n",
    "inputs = torch.randn(batch_size, num_channels, length)\n",
    "\n",
    "# Проход через сеть\n",
    "outputs = model(inputs)\n",
    "\n",
    "print(outputs.shape)  # Распечатает: torch.Size([2, 4, 5000])\n"
   ]
  },
  {
   "cell_type": "markdown",
   "id": "74d355ce-894a-4372-a666-666591b50fd3",
   "metadata": {},
   "source": [
    "В данном случае, чтобы исследовать поведение UNet-подобной архитектуры мы начнем с простой версии Unet с одним энкодером и одним декодером. Она включает в себя сверточные слои для энкодера и декодера, а также операцию апсэмплинга для увеличения размера выходного изображения."
   ]
  },
  {
   "cell_type": "markdown",
   "id": "43520b66-b0f8-4495-939e-ff2b858add1e",
   "metadata": {},
   "source": [
    "Натренируем модель:"
   ]
  },
  {
   "cell_type": "code",
   "execution_count": 18,
   "id": "c025cb24-5c7b-421b-b54a-916e74302aa8",
   "metadata": {},
   "outputs": [
    {
     "name": "stdout",
     "output_type": "stream",
     "text": [
      "Epoch 1/10, Loss: 1.300088524044334\n",
      "Epoch 2/10, Loss: 1.2709616337503706\n",
      "Epoch 3/10, Loss: 1.0858693807930142\n",
      "Epoch 4/10, Loss: 0.7836202448838717\n",
      "Epoch 5/10, Loss: 0.7666925230583588\n",
      "Epoch 6/10, Loss: 0.7525445749233295\n",
      "Epoch 7/10, Loss: 0.738971393700544\n",
      "Epoch 8/10, Loss: 0.7270432562603579\n",
      "Epoch 9/10, Loss: 0.7169951970701094\n",
      "Epoch 10/10, Loss: 0.7065320601323982\n"
     ]
    }
   ],
   "source": [
    "batch_size = 2\n",
    "num_channels = 12\n",
    "length = 5000\n",
    "num_classes = 4\n",
    "\n",
    "# Создание модели\n",
    "model = SimpleUNet(num_channels, num_classes).to(device)\n",
    "\n",
    "# Тренировка модели\n",
    "train(model, train_loader, 10)"
   ]
  },
  {
   "cell_type": "code",
   "execution_count": 19,
   "id": "4a730b0c-0604-43ec-8f78-58e6bdef5d29",
   "metadata": {},
   "outputs": [
    {
     "name": "stdout",
     "output_type": "stream",
     "text": [
      "Current f1 score:\n",
      "p_onset: 0.06%\n",
      "p_offset: 0.06%\n",
      "t_onset: 0.59%\n",
      "t_offset: 0.61%\n",
      "qrs_onset: 0.86%\n",
      "qrs_offset: 0.86%\n"
     ]
    }
   ],
   "source": [
    "# Пример использования:\n",
    "device = torch.device(\"cuda\" if torch.cuda.is_available() else \"cpu\")\n",
    "monitor= ['p', 't', 'qrs']\n",
    "orintation_type = ['onset', 'offset']\n",
    "print(\"Current f1 score:\")\n",
    "for m in monitor:\n",
    "    for o in orintation_type:   \n",
    "        metric = SegmentationMetric(monitor=m, orientation_type=o, return_type='f1', samples=75)\n",
    "        validation_metrics = validate_model_with_metrics(model, val_loader, metric, device)\n",
    "        print(f\"{m}_{o}: {round(validation_metrics, 2)}%\")"
   ]
  },
  {
   "cell_type": "markdown",
   "id": "d50bde65-2c34-49f4-aba8-62539f54fdb7",
   "metadata": {},
   "source": [
    "Можно заметить, что метрики хуже, чем версия с усложненной версии full-convolutional сетью. Проблема в том, что сеть, которая реализована выше, состоит из двух сверточных слоев в энкодере и двух в декодере, что может быть недостаточно для эффективной сегментации сложных данных, таких как сигналы ЭКГ. Важно учитывать, что для успешной сегментации требуются глубокие и сложные архитектуры сетей, способные улавливать различные уровни признаков в данных."
   ]
  },
  {
   "cell_type": "markdown",
   "id": "b6dddacd-1756-4516-9b7f-e8c54d524778",
   "metadata": {},
   "source": [
    "#### 1.4.5 Разработка версии №5. Усложненная UNet-подобная сеть."
   ]
  },
  {
   "cell_type": "code",
   "execution_count": 20,
   "id": "59742c65-6cad-4531-a70a-5dd9ddad16f9",
   "metadata": {},
   "outputs": [],
   "source": [
    "from torchsummary import summary"
   ]
  },
  {
   "cell_type": "code",
   "execution_count": 21,
   "id": "06f53f76-f97d-477e-b217-c4db77c0f34b",
   "metadata": {},
   "outputs": [],
   "source": [
    "class DoubleConv(nn.Module):\n",
    "    def __init__(self, in_channels, out_channels):\n",
    "        super(DoubleConv, self).__init__()\n",
    "        self.double_conv = nn.Sequential(\n",
    "            nn.Conv1d(in_channels, out_channels, kernel_size=3, padding=1),\n",
    "            nn.ReLU(inplace=True),\n",
    "            nn.Conv1d(out_channels, out_channels, kernel_size=3, padding=1),\n",
    "            nn.ReLU(inplace=True)\n",
    "        )\n",
    "\n",
    "    def forward(self, x):\n",
    "        return self.double_conv(x)"
   ]
  },
  {
   "cell_type": "code",
   "execution_count": 42,
   "id": "ab1d4b40-738c-47f0-926c-6c1d56afff3d",
   "metadata": {
    "scrolled": true
   },
   "outputs": [
    {
     "name": "stdout",
     "output_type": "stream",
     "text": [
      "torch.Size([2, 4, 5000])\n"
     ]
    }
   ],
   "source": [
    "class UNetDecoder(nn.Module):\n",
    "    def __init__(self):\n",
    "        super(UNetDecoder, self).__init__()\n",
    "        # Увеличиваем размер с 2500 до 5000 и количество каналов с 128 до 64\n",
    "        self.upconv1 = nn.ConvTranspose1d(128, 64, kernel_size=8, stride=4, padding=2)\n",
    "        # Сверточные слои после конкатенации\n",
    "        self.conv1 = nn.Sequential(\n",
    "            nn.Conv1d(128, 64, kernel_size=3, padding=1),\n",
    "            nn.ReLU(),\n",
    "            nn.BatchNorm1d(64)\n",
    "        )\n",
    "        # Выходной слой, предполагая что нужно num_classes каналов на выходе\n",
    "        self.final_conv = nn.Conv1d(64, num_classes, kernel_size=3, padding=1)\n",
    "\n",
    "    def forward(self, x, skips):\n",
    "        # Применяем апсемплинг\n",
    "        x = self.upconv1(x)  # x теперь [2, 64, 5000]\n",
    "        # Конкатенация с соответствующим слоем из skips\n",
    "        x = torch.cat((x, skips[0]), dim=1)  # x теперь [2, 128, 5000]\n",
    "        # Применяем сверточные слои\n",
    "        x = self.conv1(x)\n",
    "        # Применяем выходной слой\n",
    "        x = self.final_conv(x)  # x теперь [2, num_classes, 5000]\n",
    "        return x\n",
    "\n",
    "class ImprovedUNet(nn.Module):\n",
    "    def __init__(self, in_channels, out_channels):\n",
    "        super(ImprovedUNet, self).__init__()\n",
    "        \n",
    "        self.encoder = nn.ModuleList([\n",
    "            nn.Sequential(nn.Conv1d(in_channels, 64, kernel_size=3, padding=1), nn.ReLU(), nn.BatchNorm1d(64)),\n",
    "            nn.MaxPool1d(2),  # Уменьшает размерность в 2 раза\n",
    "            nn.Sequential(nn.Conv1d(64, 128, kernel_size=3, padding=1), nn.ReLU(), nn.BatchNorm1d(128)),\n",
    "            nn.MaxPool1d(2)   # Уменьшает размерность в 2 раза\n",
    "        ])\n",
    "\n",
    "        self.decoder = UNetDecoder()\n",
    "    def forward(self, x):\n",
    "        skips = []\n",
    "        for layer in self.encoder:\n",
    "            x = layer(x)\n",
    "            if isinstance(layer, nn.Sequential):\n",
    "                skips.append(x)\n",
    "        x = self.decoder(x, skips) \n",
    "        return x\n",
    "\n",
    "# Создадим модель\n",
    "model = ImprovedUNet(in_channels=12, out_channels=4)\n",
    "\n",
    "# Подготовим случайные входные данные\n",
    "inputs = torch.randn(2, 12, 5000)\n",
    "# Прогоним через сеть\n",
    "outputs = model(inputs)\n",
    "\n",
    "# Проверим размерность выхода\n",
    "print(outputs.shape)\n",
    "\n"
   ]
  },
  {
   "cell_type": "code",
   "execution_count": 43,
   "id": "bfe9a501-e962-4571-98ca-bf5217474888",
   "metadata": {},
   "outputs": [
    {
     "name": "stdout",
     "output_type": "stream",
     "text": [
      "----------------------------------------------------------------\n",
      "        Layer (type)               Output Shape         Param #\n",
      "================================================================\n",
      "            Conv1d-1             [-1, 64, 5000]           2,368\n",
      "              ReLU-2             [-1, 64, 5000]               0\n",
      "       BatchNorm1d-3             [-1, 64, 5000]             128\n",
      "         MaxPool1d-4             [-1, 64, 2500]               0\n",
      "            Conv1d-5            [-1, 128, 2500]          24,704\n",
      "              ReLU-6            [-1, 128, 2500]               0\n",
      "       BatchNorm1d-7            [-1, 128, 2500]             256\n",
      "         MaxPool1d-8            [-1, 128, 1250]               0\n",
      "   ConvTranspose1d-9             [-1, 64, 5000]          65,600\n",
      "           Conv1d-10             [-1, 64, 5000]          24,640\n",
      "             ReLU-11             [-1, 64, 5000]               0\n",
      "      BatchNorm1d-12             [-1, 64, 5000]             128\n",
      "           Conv1d-13              [-1, 4, 5000]             772\n",
      "      UNetDecoder-14              [-1, 4, 5000]               0\n",
      "================================================================\n",
      "Total params: 118,596\n",
      "Trainable params: 118,596\n",
      "Non-trainable params: 0\n",
      "----------------------------------------------------------------\n",
      "Input size (MB): 0.23\n",
      "Forward/backward pass size (MB): 27.16\n",
      "Params size (MB): 0.45\n",
      "Estimated Total Size (MB): 27.84\n",
      "----------------------------------------------------------------\n"
     ]
    }
   ],
   "source": [
    "summary(model.to(device), input_size=(12, 5000))"
   ]
  },
  {
   "cell_type": "markdown",
   "id": "c1ea8450-291b-4a81-8eed-53b85e66815d",
   "metadata": {},
   "source": [
    "Давайте разберемся в этом коде:\n",
    "1. Энкодер: Он состоит из последовательности сверточных слоев и слоев максимального пулинга, которые уменьшают размерность входных данных вдоль оси длины сигнала.\n",
    "2. Декодер: Он состоит из слоев транспонированной свертки и слоев двойной свертки. Важно отметить, что каждый выход из слоя энкодера используется для соединения с соответствующим слоем декодера в процессе декодирования.\n",
    "3. Проход через декодер: В цикле for происходит перебор слоев декодера. В каждой итерации, если индекс i четный, то происходит объединение выхода из текущего слоя декодера с соответствующим выходом из энкодера. Затем, через текущий слой декодера пропускается объединенный тензор.\n",
    "4. cropped_encoder_output: Для каждого четного слоя декодера выбирается соответствующий выход из энкодера, который затем обрезается до размера выхода из декодера перед объединением.  \n",
    "5. Возвращаемый результат: Возвращается выход из последнего слоя декодера, который представляет собой предсказание модели."
   ]
  },
  {
   "cell_type": "code",
   "execution_count": 48,
   "id": "d4b84ed6-a839-4c14-8f5f-5910d11070bc",
   "metadata": {},
   "outputs": [
    {
     "name": "stdout",
     "output_type": "stream",
     "text": [
      "Epoch 1/10, Loss: 0.8298514181530321\n",
      "Epoch 2/10, Loss: 0.6662266855309535\n",
      "Epoch 3/10, Loss: 0.6308915077091811\n",
      "Epoch 4/10, Loss: 0.5975242975083265\n",
      "Epoch 5/10, Loss: 0.5761517037625437\n",
      "Epoch 6/10, Loss: 0.5618595191604131\n",
      "Epoch 7/10, Loss: 0.5520611503101015\n",
      "Epoch 8/10, Loss: 0.5374854013517305\n",
      "Epoch 9/10, Loss: 0.533187630695182\n",
      "Epoch 10/10, Loss: 0.521397644726487\n"
     ]
    }
   ],
   "source": [
    "batch_size = 2\n",
    "num_channels = 12\n",
    "length = 5000\n",
    "num_classes = 4\n",
    "\n",
    "# Создание модели\n",
    "model = ImprovedUNet(num_channels, num_classes).to(device)\n",
    "\n",
    "# Тренировка модели\n",
    "train(model, train_loader, 10)"
   ]
  },
  {
   "cell_type": "code",
   "execution_count": 49,
   "id": "3d790bc1-6eb1-42cf-b4e4-a27ae8eda420",
   "metadata": {},
   "outputs": [
    {
     "name": "stdout",
     "output_type": "stream",
     "text": [
      "Current f1 score:\n",
      "p_onset: 0.45%\n",
      "p_offset: 0.46%\n",
      "t_onset: 0.53%\n",
      "t_offset: 0.57%\n",
      "qrs_onset: 0.87%\n",
      "qrs_offset: 0.88%\n"
     ]
    }
   ],
   "source": [
    "# Пример использования:\n",
    "device = torch.device(\"cuda\" if torch.cuda.is_available() else \"cpu\")\n",
    "monitor= ['p', 't', 'qrs']\n",
    "orintation_type = ['onset', 'offset']\n",
    "print(\"Current f1 score:\")\n",
    "for m in monitor:\n",
    "    for o in orintation_type:   \n",
    "        metric = SegmentationMetric(monitor=m, orientation_type=o, return_type='f1', samples=75)\n",
    "        validation_metrics = validate_model_with_metrics(model, val_loader, metric, device)\n",
    "        print(f\"{m}_{o}: {round(validation_metrics, 2)}%\")"
   ]
  },
  {
   "cell_type": "markdown",
   "id": "184d4c3f-cd95-44b3-b335-201f368058ae",
   "metadata": {},
   "source": [
    "Для задач сегментации изображений существует множество архитектур нейронных сетей, каждая из которых имеет свои особенности и применяется в зависимости от специфики задачи. Вот несколько популярных архитектур:\n",
    "\n",
    "1. **UNet**: Одна из самых популярных архитектур для медицинской сегментации. Она использует скип-соединения для передачи информации между слоями энкодера и декодера, что помогает сохранить пространственную информацию при восстановлении изображения.  \n",
    "2. **SegNet**: Архитектура, похожая на UNet, с акцентом на использование индексов максимального пулинга из энкодера для нелинейной деиндексации в декодере. Это позволяет более эффективно использовать пространственные признаки при меньшем количестве параметров.  \n",
    "3. **DeepLab (v3 и v3+)**: Использует атроус свертки (dilated convolutions) для увеличения поля зрения сверточных слоев, а также включает ASPP (Atrous Spatial Pyramid Pooling), что позволяет захватывать контекст на нескольких масштабах. DeepLabv3+ добавляет к этому еще и улучшенный декодер для уточнения границ объектов.  \n",
    "4. **Mask R-CNN**: Расширение Faster R-CNN, добавляющее ветвь для предсказания масок на каждый ROI, позволяя проводить сегментацию на уровне экземпляра. Это хорошо подходит для задач, где необходимо различать отдельные объекты одного класса.  \n",
    "5. **PSPNet (Pyramid Scene Parsing Network)**: Использует пирамиду глобального пулинга для улавливания информации на различных масштабах. Это особенно полезно для сцен анализа, где контекст важен для точной сегментации.  \n",
    "6. **RefineNet**: Сеть для мультипатового рафинирования, которая использует информацию из всех уровней глубины для улучшения качества сегментации. Эта архитектура направлена на использование информации с высоким разрешением на всех этапах обработки.  \n",
    "7. **LinkNet**: Основана на идее эффективного использования энкодера, предназначенного для классификации (например, ResNet) с добавлением декодера, который восстанавливает размерность изображения, используя скип-соединения для улучшения точности.  \n",
    "8. **HRNet (High-Resolution Network)**: Уникально сочетает высокое разрешение с возможностями углубленного анализа через сеть, сохраняя высокое разрешение через все слои сети.  \n",
    "Эти архитектуры подходят для различных видов сегментационных задач и выбор конкретной архитектуры зависит от специфических требований приложения, доступности вычислительных ресурсов и требуемой точности.  \n",
    "**UNet мы опробовали, есть смысл протестировать несколько архитектур из этого списка в качестве экспериментов.**"
   ]
  },
  {
   "cell_type": "markdown",
   "id": "85d2b2e1-66f1-45a8-b010-7c5ad1d6b232",
   "metadata": {},
   "source": [
    "#### 1.4.6. Разработка SegNet."
   ]
  },
  {
   "cell_type": "markdown",
   "id": "ee69dd9c-16f7-4189-b25b-5119baf7055a",
   "metadata": {},
   "source": [
    "Для построения архитектуры SegNet, адаптированной под нашу задачу сегментации сигналов, мы можем воспользоваться модификацией стандартного подхода SegNet для работы с 1D данными, поскольку большинство стандартных реализаций SegNet предназначены для работы с изображениями (2D данных).\n",
    "\n",
    "В этом случае, основная идея заключается в использовании 1D сверточных слоев вместо 2D, и адаптации слоев пулинга и апсемплинга для работы с одномерными данными."
   ]
  },
  {
   "cell_type": "code",
   "execution_count": 8,
   "id": "450baf56-89bf-4d32-a4ce-9e667cb50ff4",
   "metadata": {},
   "outputs": [
    {
     "name": "stdout",
     "output_type": "stream",
     "text": [
      "torch.Size([2, 4, 5000])\n"
     ]
    }
   ],
   "source": [
    "class SegNet1D(nn.Module):\n",
    "    def __init__(self, input_channels, output_channels):\n",
    "        super(SegNet1D, self).__init__()\n",
    "        \n",
    "        # Энкодер\n",
    "        self.encoder_conv1 = nn.Sequential(\n",
    "            nn.Conv1d(input_channels, 64, kernel_size=7, padding=3),\n",
    "            nn.BatchNorm1d(64),\n",
    "            nn.ReLU(inplace=True)\n",
    "        )\n",
    "        self.encoder_pool1 = nn.MaxPool1d(2, return_indices=True)\n",
    "        \n",
    "        self.encoder_conv2 = nn.Sequential(\n",
    "            nn.Conv1d(64, 128, kernel_size=7, padding=3),\n",
    "            nn.BatchNorm1d(128),\n",
    "            nn.ReLU(inplace=True)\n",
    "        )\n",
    "        self.encoder_pool2 = nn.MaxPool1d(2, return_indices=True)\n",
    "        \n",
    "        # Декодер\n",
    "        self.decoder_unpool1 = nn.MaxUnpool1d(2)\n",
    "        self.decoder_conv1 = nn.Sequential(\n",
    "            nn.Conv1d(128, 64, kernel_size=7, padding=3),\n",
    "            nn.BatchNorm1d(64),\n",
    "            nn.ReLU(inplace=True)\n",
    "        )\n",
    "        \n",
    "        self.decoder_unpool2 = nn.MaxUnpool1d(2)\n",
    "        self.decoder_conv2 = nn.Sequential(\n",
    "            nn.Conv1d(64, output_channels, kernel_size=7, padding=3),\n",
    "            nn.BatchNorm1d(output_channels),\n",
    "            nn.ReLU(inplace=True)\n",
    "        )\n",
    "\n",
    "    def forward(self, x):\n",
    "        # Энкодер\n",
    "        x = self.encoder_conv1(x)\n",
    "        x, indices1 = self.encoder_pool1(x)\n",
    "        \n",
    "        x = self.encoder_conv2(x)\n",
    "        x, indices2 = self.encoder_pool2(x)\n",
    "        \n",
    "        # Декодер\n",
    "        x = self.decoder_unpool1(x, indices2)\n",
    "        x = self.decoder_conv1(x)\n",
    "        \n",
    "        x = self.decoder_unpool2(x, indices1)\n",
    "        x = self.decoder_conv2(x)\n",
    "        \n",
    "        return x\n",
    "\n",
    "# Параметры модели\n",
    "input_channels = 12  # количество каналов входных данных\n",
    "output_channels = 4  # количество каналов выходных данных (классы)\n",
    "\n",
    "# Создание экземпляра модели\n",
    "model = SegNet1D(input_channels, output_channels)\n",
    "# Подготовим случайные входные данные\n",
    "inputs = torch.randn(2, 12, 5000)\n",
    "# Прогоним через сеть\n",
    "outputs = model(inputs)\n",
    "\n",
    "# Проверим размерность выхода\n",
    "print(outputs.shape)\n"
   ]
  },
  {
   "cell_type": "markdown",
   "id": "bc496d08-5c49-47a0-b6cc-dd1baa05432d",
   "metadata": {},
   "source": [
    "##### Ключевые особенности:\n",
    "**1D сверточные слои**: Позволяют обрабатывать временные ряды или одномерные сигналы.  \n",
    "**MaxPool1d с return_indices**: Это позволяет в процессе пулинга сохранять индексы максимальных значений, которые затем используются в слое MaxUnpool1d для восстановления данных до исходного размера.  \n",
    "**MaxUnpool1d**: Используется для апсемплинга данных в декодере, возвращая значения в исходные позиции на основе сохраненных индексов.  \n",
    "Этот подход позволяет модели эффективно учиться на данных, представляющих собой одномерные сигналы, и проводить сегментацию, восстанавливая исходные размеры выходных данных для каждого класса.  "
   ]
  },
  {
   "cell_type": "markdown",
   "id": "eed0d461-511d-485f-b779-1e136ac187a6",
   "metadata": {},
   "source": [
    "Теперь натренируем модель:"
   ]
  },
  {
   "cell_type": "code",
   "execution_count": 14,
   "id": "0c7a30b3-dbc4-4776-a275-d40372c9ecc8",
   "metadata": {},
   "outputs": [
    {
     "name": "stdout",
     "output_type": "stream",
     "text": [
      "Epoch 1/10, Loss: 0.9576759168079921\n",
      "Epoch 2/10, Loss: 0.799306452080801\n",
      "Epoch 3/10, Loss: 0.7056014337516451\n",
      "Epoch 4/10, Loss: 0.6449206212124268\n",
      "Epoch 5/10, Loss: 0.6055860993537036\n",
      "Epoch 6/10, Loss: 0.5760808304532782\n",
      "Epoch 7/10, Loss: 0.5463730433544556\n",
      "Epoch 8/10, Loss: 0.5304551280357621\n",
      "Epoch 9/10, Loss: 0.5137173408618221\n",
      "Epoch 10/10, Loss: 0.5015593867797357\n"
     ]
    }
   ],
   "source": [
    "batch_size = 2\n",
    "num_channels = 12\n",
    "length = 5000\n",
    "num_classes = 4\n",
    "\n",
    "# Создание модели\n",
    "model = SegNet1D(num_channels, num_classes).to(device)\n",
    "\n",
    "# Тренировка модели\n",
    "train(model, train_loader, 10)"
   ]
  },
  {
   "cell_type": "code",
   "execution_count": null,
   "id": "1ceee918-af98-4b68-a8cb-5f2ad8fc24bb",
   "metadata": {},
   "outputs": [],
   "source": [
    "# Пример использования:\n",
    "device = torch.device(\"cuda\" if torch.cuda.is_available() else \"cpu\")\n",
    "monitor= ['p', 't', 'qrs']\n",
    "orintation_type = ['onset', 'offset']\n",
    "print(\"Current f1 score:\")\n",
    "for m in monitor:\n",
    "    for o in orintation_type:   \n",
    "        metric = SegmentationMetric(monitor=m, orientation_type=o, return_type='f1', samples=75)\n",
    "        validation_metrics = validate_model_with_metrics(model, val_loader, metric, device)\n",
    "        print(f\"{m}_{o}: {round(validation_metrics, 2)}%\")"
   ]
  },
  {
   "cell_type": "markdown",
   "id": "2321f057-f081-4ed7-8457-0bacd1971c63",
   "metadata": {},
   "source": [
    "Модель показала неплохие результаты для такой небольшой глубины, можем попробовать усложнить эту сеть."
   ]
  },
  {
   "cell_type": "markdown",
   "id": "992dbd22-e9e5-418d-8814-1d4631e71690",
   "metadata": {},
   "source": [
    "#### 1.4.6. Разработка улучшенного SegNet."
   ]
  },
  {
   "cell_type": "markdown",
   "id": "935e273e-f856-494a-b488-c391e3feba36",
   "metadata": {},
   "source": [
    "Для улучшения производительности и точности сегментации в модели SegNet для одномерных данных, мы можем внести несколько изменений, направленных на улучшение изучения признаков и увеличение глубины сети. Это включает добавление дополнительных слоев, увеличение количества каналов в сверточных слоях, а также внедрение дополнительных элементов, таких как Dropout для предотвращения переобучения."
   ]
  },
  {
   "cell_type": "code",
   "execution_count": 18,
   "id": "717fec3c-75e4-4e8a-ba4f-b8d8c2bb770e",
   "metadata": {},
   "outputs": [
    {
     "name": "stdout",
     "output_type": "stream",
     "text": [
      "torch.Size([2, 4, 5000])\n"
     ]
    }
   ],
   "source": [
    "class AdvancedSegNet1D(nn.Module):\n",
    "    def __init__(self, input_channels, output_channels):\n",
    "        super(AdvancedSegNet1D, self).__init__()\n",
    "        \n",
    "        # Энкодер\n",
    "        self.encoder_conv1 = nn.Sequential(\n",
    "            nn.Conv1d(input_channels, 64, kernel_size=7, padding=3),\n",
    "            nn.BatchNorm1d(64),\n",
    "            nn.ReLU(inplace=True),\n",
    "            nn.Conv1d(64, 64, kernel_size=7, padding=3),\n",
    "            nn.BatchNorm1d(64),\n",
    "            nn.ReLU(inplace=True)\n",
    "        )\n",
    "        self.encoder_pool1 = nn.MaxPool1d(2, return_indices=True)\n",
    "        \n",
    "        self.encoder_conv2 = nn.Sequential(\n",
    "            nn.Conv1d(64, 128, kernel_size=7, padding=3),\n",
    "            nn.BatchNorm1d(128),\n",
    "            nn.ReLU(inplace=True),\n",
    "            nn.Conv1d(128, 128, kernel_size=7, padding=3),\n",
    "            nn.BatchNorm1d(128),\n",
    "            nn.ReLU(inplace=True)\n",
    "        )\n",
    "        self.encoder_pool2 = nn.MaxPool1d(2, return_indices=True)\n",
    "\n",
    "        self.encoder_conv3 = nn.Sequential(\n",
    "            nn.Conv1d(128, 256, kernel_size=7, padding=3),\n",
    "            nn.BatchNorm1d(256),\n",
    "            nn.ReLU(inplace=True),\n",
    "            nn.Conv1d(256, 256, kernel_size=7, padding=3),\n",
    "            nn.BatchNorm1d(256),\n",
    "            nn.ReLU(inplace=True)\n",
    "        )\n",
    "        self.encoder_pool3 = nn.MaxPool1d(2, return_indices=True)\n",
    "        \n",
    "        # Декодер\n",
    "        self.decoder_unpool1 = nn.MaxUnpool1d(2)\n",
    "        self.decoder_conv1 = nn.Sequential(\n",
    "            nn.Conv1d(256, 256, kernel_size=7, padding=3),\n",
    "            nn.BatchNorm1d(256),\n",
    "            nn.ReLU(inplace=True),\n",
    "            nn.Conv1d(256, 128, kernel_size=7, padding=3),\n",
    "            nn.BatchNorm1d(128),\n",
    "            nn.ReLU(inplace=True)\n",
    "        )\n",
    "        \n",
    "        self.decoder_unpool2 = nn.MaxUnpool1d(2)\n",
    "        self.decoder_conv2 = nn.Sequential(\n",
    "            nn.Conv1d(128, 128, kernel_size=7, padding=3),\n",
    "            nn.BatchNorm1d(128),\n",
    "            nn.ReLU(inplace=True),\n",
    "            nn.Conv1d(128, 64, kernel_size=7, padding=3),\n",
    "            nn.BatchNorm1d(64),\n",
    "            nn.ReLU(inplace=True)\n",
    "        )\n",
    "        \n",
    "        self.decoder_unpool3 = nn.MaxUnpool1d(2)\n",
    "        self.decoder_conv3 = nn.Sequential(\n",
    "            nn.Conv1d(64, 64, kernel_size=7, padding=3),\n",
    "            nn.BatchNorm1d(64),\n",
    "            nn.ReLU(inplace=True),\n",
    "            nn.Conv1d(64, output_channels, kernel_size=7, padding=3),\n",
    "            nn.BatchNorm1d(output_channels),\n",
    "            nn.ReLU(inplace=True)\n",
    "        )\n",
    "\n",
    "    def forward(self, x):\n",
    "        # Энкодер\n",
    "        x = self.encoder_conv1(x)\n",
    "        x, indices1 = self.encoder_pool1(x)\n",
    "        \n",
    "        x = self.encoder_conv2(x)\n",
    "        x, indices2 = self.encoder_pool2(x)\n",
    "\n",
    "        x = self.encoder_conv3(x)\n",
    "        x, indices3 = self.encoder_pool3(x)\n",
    "        \n",
    "        # Декодер\n",
    "        x = self.decoder_unpool1(x, indices3)\n",
    "        x = self.decoder_conv1(x)\n",
    "        \n",
    "        x = self.decoder_unpool2(x, indices2)\n",
    "        x = self.decoder_conv2(x)\n",
    "\n",
    "        x = self.decoder_unpool3(x, indices1)\n",
    "        x = self.decoder_conv3(x)\n",
    "        \n",
    "        return x\n",
    "\n",
    "\n",
    "# Параметры модели\n",
    "input_channels = 12  # количество каналов входных данных\n",
    "output_channels = 4  # количество каналов выходных данных (классы)\n",
    "\n",
    "# Создание экземпляра модели\n",
    "model = AdvancedSegNet1D(input_channels, output_channels)\n",
    "# Подготовим случайные входные данные\n",
    "inputs = torch.randn(2, 12, 5000)\n",
    "# Прогоним через сеть\n",
    "outputs = model(inputs)\n",
    "\n",
    "# Проверим размерность выхода\n",
    "print(outputs.shape)"
   ]
  },
  {
   "cell_type": "markdown",
   "id": "8fe906f7-dd58-460a-9cc6-8a8324a095d4",
   "metadata": {},
   "source": [
    "##### Ключевые особенности и улучшения:\n",
    "**Больше сверточных слоев**: Каждый блок свертки теперь содержит два сверточных слоя, что позволяет извлекать более сложные признаки на каждом уровне.  \n",
    "**Увеличенное количество фильтров**: Увеличение количества каналов в сверточных слоях помогает сети обучаться на более сложной иерархии признаков.  \n",
    "**Больше уровней глубины**: Добавление дополнительного уровня глубины в энкодер и декодер улучшает способность сети восстанавливать детализированные сегментации.  \n",
    "Эти изменения направлены на улучшение способности модели извлекать сложные признаки из данных и более точно восстанавливать детали в процессе сегментации, что потенциально приведет к улучшению точности сегментации.  "
   ]
  },
  {
   "cell_type": "code",
   "execution_count": 19,
   "id": "e861abda-ee0f-4e51-b8b3-b6aeaf5a147c",
   "metadata": {},
   "outputs": [
    {
     "name": "stdout",
     "output_type": "stream",
     "text": [
      "Epoch 1/10, Loss: 0.8915555186859974\n",
      "Epoch 2/10, Loss: 0.7044457411998278\n",
      "Epoch 3/10, Loss: 0.6147651332732919\n",
      "Epoch 4/10, Loss: 0.5539327933416738\n",
      "Epoch 5/10, Loss: 0.5102888993048048\n",
      "Epoch 6/10, Loss: 0.4851705684483825\n",
      "Epoch 7/10, Loss: 0.46359497357111473\n",
      "Epoch 8/10, Loss: 0.44176350045320273\n",
      "Epoch 9/10, Loss: 0.42519436762123913\n",
      "Epoch 10/10, Loss: 0.41051154496607845\n"
     ]
    }
   ],
   "source": [
    "batch_size = 2\n",
    "num_channels = 12\n",
    "length = 5000\n",
    "num_classes = 4\n",
    "\n",
    "# Создание модели\n",
    "model = AdvancedSegNet1D(num_channels, num_classes).to(device)\n",
    "\n",
    "# Тренировка модели\n",
    "train(model, train_loader, 10)"
   ]
  },
  {
   "cell_type": "markdown",
   "id": "f38f3cfe-96b6-4087-99ae-3e5bff54d6c6",
   "metadata": {},
   "source": [
    "# Пример использования:\n",
    "device = torch.device(\"cuda\" if torch.cuda.is_available() else \"cpu\")\n",
    "monitor= ['p', 't', 'qrs']\n",
    "orintation_type = ['onset', 'offset']\n",
    "print(\"Current f1 score:\")\n",
    "for m in monitor:\n",
    "    for o in orintation_type:   \n",
    "        metric = SegmentationMetric(monitor=m, orientation_type=o, return_type='f1', samples=75)\n",
    "        validation_metrics = validate_model_with_metrics(model, val_loader, metric, device)\n",
    "        print(f\"{m}_{o}: {round(validation_metrics, 2)}%\")"
   ]
  },
  {
   "cell_type": "markdown",
   "id": "13dd655f-c98a-430a-879a-ce179d578df7",
   "metadata": {},
   "source": [
    "#### 1.4.6. Разработка улучшенного SegNet с добавлением дополнительных сверточных слоев."
   ]
  },
  {
   "cell_type": "markdown",
   "id": "bd2d039b-40e5-4bfb-ba9c-a20556f1f234",
   "metadata": {},
   "source": [
    "Предыдущая модель показала неплохие результаты, мы можем попробовать увеличить глубину сети."
   ]
  },
  {
   "cell_type": "code",
   "execution_count": 29,
   "id": "7aa94a47-c19b-46f7-842e-7911d4bd2bfa",
   "metadata": {},
   "outputs": [
    {
     "name": "stdout",
     "output_type": "stream",
     "text": [
      "torch.Size([2, 4, 5000])\n"
     ]
    }
   ],
   "source": [
    "class DeeperAdvancedSegNet1D(nn.Module):\n",
    "    def __init__(self, input_channels, output_channels):\n",
    "        super(DeeperAdvancedSegNet1D, self).__init__()\n",
    "        \n",
    "        # Энкодер\n",
    "        self.encoder_conv1 = nn.Sequential(\n",
    "            nn.Conv1d(input_channels, 64, kernel_size=7, padding=3),\n",
    "            nn.BatchNorm1d(64),\n",
    "            nn.ReLU(inplace=True),\n",
    "            nn.Conv1d(64, 64, kernel_size=7, padding=3),\n",
    "            nn.BatchNorm1d(64),\n",
    "            nn.ReLU(inplace=True)\n",
    "        )\n",
    "        self.encoder_pool1 = nn.MaxPool1d(2, return_indices=True)\n",
    "        \n",
    "        self.encoder_conv2 = nn.Sequential(\n",
    "            nn.Conv1d(64, 128, kernel_size=7, padding=3),\n",
    "            nn.BatchNorm1d(128),\n",
    "            nn.ReLU(inplace=True),\n",
    "            nn.Conv1d(128, 128, kernel_size=7, padding=3),\n",
    "            nn.BatchNorm1d(128),\n",
    "            nn.ReLU(inplace=True)\n",
    "        )\n",
    "        self.encoder_pool2 = nn.MaxPool1d(2, return_indices=True)\n",
    "\n",
    "        self.encoder_conv3 = nn.Sequential(\n",
    "            nn.Conv1d(128, 256, kernel_size=7, padding=3),\n",
    "            nn.BatchNorm1d(256),\n",
    "            nn.ReLU(inplace=True),\n",
    "            nn.Conv1d(256, 256, kernel_size=7, padding=3),\n",
    "            nn.BatchNorm1d(256),\n",
    "            nn.ReLU(inplace=True)\n",
    "        )\n",
    "        self.encoder_pool3 = nn.MaxPool1d(2, return_indices=True)\n",
    "\n",
    "        self.encoder_conv4 = nn.Sequential(\n",
    "            nn.Conv1d(256, 512, kernel_size=7, padding=3),\n",
    "            nn.BatchNorm1d(512),\n",
    "            nn.ReLU(inplace=True),\n",
    "            nn.Conv1d(512, 512, kernel_size=7, padding=3),\n",
    "            nn.BatchNorm1d(512),\n",
    "            nn.ReLU(inplace=True)\n",
    "        )\n",
    "        self.encoder_pool4 = nn.MaxPool1d(2, return_indices=True)\n",
    "\n",
    "        # Декодер\n",
    "        self.decoder_unpool1 = nn.MaxUnpool1d(2)\n",
    "        self.decoder_conv1 = nn.Sequential(\n",
    "            nn.Conv1d(512, 512, kernel_size=7, padding=3),\n",
    "            nn.BatchNorm1d(512),\n",
    "            nn.ReLU(inplace=True),\n",
    "            nn.Conv1d(512, 256, kernel_size=8, padding=4),\n",
    "            nn.BatchNorm1d(256),\n",
    "            nn.ReLU(inplace=True)\n",
    "        )\n",
    "\n",
    "        self.decoder_unpool2 = nn.MaxUnpool1d(2)\n",
    "        self.decoder_conv2 = nn.Sequential(\n",
    "            nn.Conv1d(256, 256, kernel_size=7, padding=3),\n",
    "            nn.BatchNorm1d(256),\n",
    "            nn.ReLU(inplace=True),\n",
    "            nn.Conv1d(256, 128, kernel_size=7, padding=3),\n",
    "            nn.BatchNorm1d(128),\n",
    "            nn.ReLU(inplace=True)\n",
    "        )\n",
    "\n",
    "        self.decoder_unpool3 = nn.MaxUnpool1d(2)\n",
    "        self.decoder_conv3 = nn.Sequential(\n",
    "            nn.Conv1d(128, 128, kernel_size=7, padding=3),\n",
    "            nn.BatchNorm1d(128),\n",
    "            nn.ReLU(inplace=True),\n",
    "            nn.Conv1d(128, 64, kernel_size=7, padding=3),\n",
    "            nn.BatchNorm1d(64),\n",
    "            nn.ReLU(inplace=True)\n",
    "        )\n",
    "\n",
    "        self.decoder_unpool4 = nn.MaxUnpool1d(2)\n",
    "        self.decoder_conv4 = nn.Sequential(\n",
    "            nn.Conv1d(64, 64, kernel_size=7, padding=3),\n",
    "            nn.BatchNorm1d(64),\n",
    "            nn.ReLU(inplace=True),\n",
    "            nn.Conv1d(64, output_channels, kernel_size=7, padding=3),\n",
    "            nn.BatchNorm1d(output_channels),\n",
    "            nn.ReLU(inplace=True)\n",
    "        )\n",
    "\n",
    "    def forward(self, x):\n",
    "        # Энкодер\n",
    "        x = self.encoder_conv1(x)\n",
    "        x, indices1 = self.encoder_pool1(x)\n",
    "        \n",
    "        x = self.encoder_conv2(x)\n",
    "        x, indices2 = self.encoder_pool2(x)\n",
    "\n",
    "        x = self.encoder_conv3(x)\n",
    "        x, indices3 = self.encoder_pool3(x)\n",
    "\n",
    "        x = self.encoder_conv4(x)\n",
    "        x, indices4 = self.encoder_pool4(x)\n",
    "        \n",
    "        # Декодер\n",
    "        x = self.decoder_unpool1(x, indices4)\n",
    "        x = self.decoder_conv1(x)\n",
    "        \n",
    "        x = self.decoder_unpool2(x, indices3)\n",
    "        x = self.decoder_conv2(x)\n",
    "\n",
    "        x = self.decoder_unpool3(x, indices2)\n",
    "        x = self.decoder_conv3(x)\n",
    "\n",
    "        x = self.decoder_unpool4(x, indices1)\n",
    "        x = self.decoder_conv4(x)\n",
    "        \n",
    "        return x\n",
    "\n",
    "\n",
    "# Параметры модели\n",
    "input_channels = 12  # количество каналов входных данных\n",
    "output_channels = 4  # количество каналов выходных данных (классы)\n",
    "\n",
    "# Создание экземпляра модели\n",
    "model = DeeperAdvancedSegNet1D(input_channels, output_channels)\n",
    "# Подготовим случайные входные данные\n",
    "inputs = torch.randn(2, 12, 5000)\n",
    "# Прогоним через сеть\n",
    "outputs = model(inputs)\n",
    "\n",
    "# Проверим размерность выхода\n",
    "print(outputs.shape)"
   ]
  },
  {
   "cell_type": "code",
   "execution_count": 30,
   "id": "4933c5a8-8bbe-446b-aeff-004c1d55fbcc",
   "metadata": {},
   "outputs": [
    {
     "name": "stdout",
     "output_type": "stream",
     "text": [
      "Epoch 1/10, Loss: 0.8636775500588603\n",
      "Epoch 2/10, Loss: 0.6755266141194802\n",
      "Epoch 3/10, Loss: 0.5861208029575162\n",
      "Epoch 4/10, Loss: 0.5274247819340074\n",
      "Epoch 5/10, Loss: 0.49196176559894117\n",
      "Epoch 6/10, Loss: 0.45921954619032995\n",
      "Epoch 7/10, Loss: 0.4362997434936561\n",
      "Epoch 8/10, Loss: 0.423144176408842\n",
      "Epoch 9/10, Loss: 0.40815963523534987\n",
      "Epoch 10/10, Loss: 0.3899886745040293\n"
     ]
    }
   ],
   "source": [
    "batch_size = 2\n",
    "num_channels = 12\n",
    "length = 5000\n",
    "num_classes = 4\n",
    "\n",
    "# Создание модели\n",
    "model = DeeperAdvancedSegNet1D(num_channels, num_classes).to(device)\n",
    "\n",
    "# Тренировка модели\n",
    "train(model, train_loader, 10)"
   ]
  },
  {
   "cell_type": "code",
   "execution_count": 31,
   "id": "1f0c0553-09df-4f54-bdbc-83ddfc2fe90a",
   "metadata": {},
   "outputs": [
    {
     "name": "stdout",
     "output_type": "stream",
     "text": [
      "Current f1 score:\n",
      "p_onset: 0.8%\n",
      "p_offset: 0.81%\n",
      "t_onset: 0.85%\n",
      "t_offset: 0.88%\n",
      "qrs_onset: 0.96%\n",
      "qrs_offset: 0.96%\n"
     ]
    }
   ],
   "source": [
    "# Пример использования:\n",
    "device = torch.device(\"cuda\" if torch.cuda.is_available() else \"cpu\")\n",
    "monitor= ['p', 't', 'qrs']\n",
    "orintation_type = ['onset', 'offset']\n",
    "print(\"Current f1 score:\")\n",
    "for m in monitor:\n",
    "    for o in orintation_type:   \n",
    "        metric = SegmentationMetric(monitor=m, orientation_type=o, return_type='f1', samples=75)\n",
    "        validation_metrics = validate_model_with_metrics(model, val_loader, metric, device)\n",
    "        print(f\"{m}_{o}: {round(validation_metrics, 2)}%\")"
   ]
  },
  {
   "cell_type": "markdown",
   "id": "f2326684-726c-4c38-a331-684ddd59e953",
   "metadata": {},
   "source": [
    "Можем видеть, что теперь метрики стали еще выше, расположение p-волны правильно сегментируется в 80% случаев, t-волны примерно в 86% случаев, а qrs сегмента в 96% случаев. Однако последующее увеличение глубины сети скорее всего не покажет метрики сильно выше этих, но сильно утежелит модель, что повлияет на ее быстродействие и скорость обученик, поэтому предлагается попробовать другие способы увеличения точности сегментации."
   ]
  },
  {
   "cell_type": "markdown",
   "id": "7d9a082c-886f-43da-9b36-57b4b06eb8e1",
   "metadata": {},
   "source": [
    "#### 1.4.7. Разработка улучшенного SegNet с добавлением механизма влияния."
   ]
  },
  {
   "cell_type": "markdown",
   "id": "4c43f17a-690c-4c00-aaf5-40b3f48ae30f",
   "metadata": {},
   "source": [
    "Для дальнейшего улучшения качества сегментации, одним из эффективных подходов может быть внедрение механизма внимания или \"attention\", который помогает сети фокусироваться на наиболее информативных частях входных данных. Это может особенно хорошо работать в задачах, где не все части входных данных одинаково важны для определения класса каждой точки данных.  \n",
    "\n",
    "##### Добавление Attention механизма  \n",
    "Мы можем добавить простой self-attention механизм в вашу модель. Это можно сделать путём внедрения специального attention слоя, который будет учитывать веса каждого канала в данных после каждого блока декодирования. Этот подход позволит модели уделять больше внимания важным признакам.  \n",
    "\n",
    "##### Реализация Channel Attention  \n",
    "Один из простых и эффективных способов внедрения attention — использование channel attention, который фокусируется на важности каждого канала. Простой способ реализации — использовать global average pooling для получения средних значений по каждому каналу, затем применить полносвязный слой для расчёта весов каналов, и, наконец, умножить исходные каналы на вычисленные веса.  "
   ]
  },
  {
   "cell_type": "code",
   "execution_count": 9,
   "id": "bf22264d-d039-4c82-8895-40dd6b23ac6f",
   "metadata": {},
   "outputs": [
    {
     "name": "stdout",
     "output_type": "stream",
     "text": [
      "torch.Size([2, 4, 5000])\n"
     ]
    }
   ],
   "source": [
    "class ChannelAttentionModule(nn.Module):\n",
    "    def __init__(self, num_channels, reduction_ratio=16):\n",
    "        super(ChannelAttentionModule, self).__init__()\n",
    "        self.avg_pool = nn.AdaptiveAvgPool1d(1)\n",
    "        self.fc = nn.Sequential(\n",
    "            nn.Linear(num_channels, num_channels // reduction_ratio, bias=False),\n",
    "            nn.ReLU(inplace=True),\n",
    "            nn.Linear(num_channels // reduction_ratio, num_channels, bias=False),\n",
    "            nn.Sigmoid()\n",
    "        )\n",
    "\n",
    "    def forward(self, x):\n",
    "        b, c, _ = x.size()\n",
    "        y = self.avg_pool(x).view(b, c) \n",
    "        y = self.fc(y).view(b, c, 1)\n",
    "        return x * y.expand_as(x)\n",
    "\n",
    "class AttentionSegNet1D(nn.Module):\n",
    "    def __init__(self, input_channels, output_channels):\n",
    "        super(AttentionSegNet1D, self).__init__()\n",
    "        \n",
    "        # Энкодер\n",
    "        self.encoder_conv1 = nn.Sequential(\n",
    "            nn.Conv1d(input_channels, 64, kernel_size=7, padding=3),\n",
    "            nn.BatchNorm1d(64),\n",
    "            nn.ReLU(inplace=True),\n",
    "            nn.Conv1d(64, 64, kernel_size=7, padding=3),\n",
    "            nn.BatchNorm1d(64),\n",
    "            nn.ReLU(inplace=True)\n",
    "        )\n",
    "        self.encoder_pool1 = nn.MaxPool1d(2, return_indices=True)\n",
    "        \n",
    "        self.encoder_conv2 = nn.Sequential(\n",
    "            nn.Conv1d(64, 128, kernel_size=7, padding=3),\n",
    "            nn.BatchNorm1d(128),\n",
    "            nn.ReLU(inplace=True),\n",
    "            nn.Conv1d(128, 128, kernel_size=7, padding=3),\n",
    "            nn.BatchNorm1d(128),\n",
    "            nn.ReLU(inplace=True)\n",
    "        )\n",
    "        self.encoder_pool2 = nn.MaxPool1d(2, return_indices=True)\n",
    "\n",
    "        self.encoder_conv3 = nn.Sequential(\n",
    "            nn.Conv1d(128, 256, kernel_size=7, padding=3),\n",
    "            nn.BatchNorm1d(256),\n",
    "            nn.ReLU(inplace=True),\n",
    "            nn.Conv1d(256, 256, kernel_size=7, padding=3),\n",
    "            nn.BatchNorm1d(256),\n",
    "            nn.ReLU(inplace=True)\n",
    "        )\n",
    "        self.encoder_pool3 = nn.MaxPool1d(2, return_indices=True)\n",
    "\n",
    "        self.encoder_conv4 = nn.Sequential(\n",
    "            nn.Conv1d(256, 512, kernel_size=7, padding=3),\n",
    "            nn.BatchNorm1d(512),\n",
    "            nn.ReLU(inplace=True),\n",
    "            nn.Conv1d(512, 512, kernel_size=7, padding=3),\n",
    "            nn.BatchNorm1d(512),\n",
    "            nn.ReLU(inplace=True)\n",
    "        )\n",
    "        self.encoder_pool4 = nn.MaxPool1d(2, return_indices=True)\n",
    "\n",
    "        # Декодер\n",
    "        self.decoder_unpool1 = nn.MaxUnpool1d(2)\n",
    "        self.decoder_conv1 = nn.Sequential(\n",
    "            nn.Conv1d(512, 512, kernel_size=7, padding=3),\n",
    "            nn.BatchNorm1d(512),\n",
    "            nn.ReLU(inplace=True),\n",
    "            nn.Conv1d(512, 256, kernel_size=8, padding=4),\n",
    "            nn.BatchNorm1d(256),\n",
    "            nn.ReLU(inplace=True)\n",
    "        )\n",
    "\n",
    "        self.decoder_unpool2 = nn.MaxUnpool1d(2)\n",
    "        self.decoder_conv2 = nn.Sequential(\n",
    "            nn.Conv1d(256, 256, kernel_size=7, padding=3),\n",
    "            nn.BatchNorm1d(256),\n",
    "            nn.ReLU(inplace=True),\n",
    "            nn.Conv1d(256, 128, kernel_size=7, padding=3),\n",
    "            nn.BatchNorm1d(128),\n",
    "            nn.ReLU(inplace=True)\n",
    "        )\n",
    "\n",
    "        self.decoder_unpool3 = nn.MaxUnpool1d(2)\n",
    "        self.decoder_conv3 = nn.Sequential(\n",
    "            nn.Conv1d(128, 128, kernel_size=7, padding=3),\n",
    "            nn.BatchNorm1d(128),\n",
    "            nn.ReLU(inplace=True),\n",
    "            nn.Conv1d(128, 64, kernel_size=7, padding=3),\n",
    "            nn.BatchNorm1d(64),\n",
    "            nn.ReLU(inplace=True)\n",
    "        )\n",
    "\n",
    "        self.decoder_unpool4 = nn.MaxUnpool1d(2)\n",
    "        self.decoder_conv4 = nn.Sequential(\n",
    "            nn.Conv1d(64, 64, kernel_size=7, padding=3),\n",
    "            nn.BatchNorm1d(64),\n",
    "            nn.ReLU(inplace=True),\n",
    "            nn.Conv1d(64, output_channels, kernel_size=7, padding=3),\n",
    "            nn.BatchNorm1d(output_channels),\n",
    "            nn.ReLU(inplace=True)\n",
    "        )\n",
    "\n",
    "        # Внедрение модуля внимания\n",
    "        self.attention1 = ChannelAttentionModule(256)\n",
    "        self.attention2 = ChannelAttentionModule(128)\n",
    "        self.attention3 = ChannelAttentionModule(64)\n",
    "\n",
    "    def forward(self, x):\n",
    "        # Энкодер\n",
    "        x = self.encoder_conv1(x)\n",
    "        x, indices1 = self.encoder_pool1(x)\n",
    "        \n",
    "        x = self.encoder_conv2(x)\n",
    "        x, indices2 = self.encoder_pool2(x)\n",
    "\n",
    "        x = self.encoder_conv3(x)\n",
    "        x, indices3 = self.encoder_pool3(x)\n",
    "\n",
    "        x = self.encoder_conv4(x)\n",
    "        x, indices4 = self.encoder_pool4(x)\n",
    "        \n",
    "        # Декодер\n",
    "        x = self.decoder_unpool1(x, indices4)\n",
    "        x = self.decoder_conv1(x)\n",
    "        x = self.attention1(x)\n",
    "        \n",
    "        x = self.decoder_unpool2(x, indices3)\n",
    "        x = self.decoder_conv2(x)\n",
    "        x = self.attention2(x)\n",
    "        \n",
    "        x = self.decoder_unpool3(x, indices2)\n",
    "        x = self.decoder_conv3(x)\n",
    "        x = self.attention3(x)\n",
    "        \n",
    "        x = self.decoder_unpool4(x, indices1)\n",
    "        x = self.decoder_conv4(x)\n",
    "       \n",
    "        \n",
    "        return x\n",
    "\n",
    "# Параметры модели\n",
    "input_channels = 12  # количество каналов входных данных\n",
    "output_channels = 4  # количество каналов выходных данных (классы)\n",
    "\n",
    "# Создание экземпляра модели\n",
    "model = AttentionSegNet1D(input_channels, output_channels)\n",
    "# Подготовим случайные входные данные\n",
    "inputs = torch.randn(2, 12, 5000)\n",
    "# Прогоним через сеть\n",
    "outputs = model(inputs)\n",
    "\n",
    "# Проверим размерность выхода\n",
    "print(outputs.shape)"
   ]
  },
  {
   "cell_type": "markdown",
   "id": "b916047d-2d2e-445d-8c50-9c71c198fe37",
   "metadata": {},
   "source": [
    "Эта модификация позволяет улучшить способность модели к фокусировке на ключевых признаках, что может повысить точность сегментации, особенно в сложных условиях или при наличии шума в данных."
   ]
  },
  {
   "cell_type": "code",
   "execution_count": 10,
   "id": "ab906acd-bda8-4094-8511-f1319fbc58c5",
   "metadata": {},
   "outputs": [
    {
     "name": "stdout",
     "output_type": "stream",
     "text": [
      "Epoch 1/10, Loss: 0.8829428987069563\n",
      "Epoch 2/10, Loss: 0.6775972660292279\n",
      "Epoch 3/10, Loss: 0.5664214093189734\n",
      "Epoch 4/10, Loss: 0.526828769352529\n",
      "Epoch 5/10, Loss: 0.4784901292099581\n",
      "Epoch 6/10, Loss: 0.45517311932204607\n",
      "Epoch 7/10, Loss: 0.42557853866707196\n",
      "Epoch 8/10, Loss: 0.4085462321708729\n",
      "Epoch 9/10, Loss: 0.3976931290870363\n",
      "Epoch 10/10, Loss: 0.3852117707009439\n"
     ]
    }
   ],
   "source": [
    "batch_size = 2\n",
    "num_channels = 12\n",
    "length = 5000\n",
    "num_classes = 4\n",
    "\n",
    "# Создание модели\n",
    "model = AttentionSegNet1D(num_channels, num_classes).to(device)\n",
    "\n",
    "# Тренировка модели\n",
    "train(model, train_loader, 10)"
   ]
  },
  {
   "cell_type": "code",
   "execution_count": 11,
   "id": "08fdeb67-bf2f-4963-8d63-7d243566b664",
   "metadata": {},
   "outputs": [
    {
     "name": "stdout",
     "output_type": "stream",
     "text": [
      "Current f1 score:\n",
      "p_onset: 0.79%\n",
      "p_offset: 0.81%\n",
      "t_onset: 0.9%\n",
      "t_offset: 0.88%\n",
      "qrs_onset: 0.95%\n",
      "qrs_offset: 0.95%\n"
     ]
    }
   ],
   "source": [
    "# Пример использования:\n",
    "device = torch.device(\"cuda\" if torch.cuda.is_available() else \"cpu\")\n",
    "monitor= ['p', 't', 'qrs']\n",
    "orintation_type = ['onset', 'offset']\n",
    "print(\"Current f1 score:\")\n",
    "for m in monitor:\n",
    "    for o in orintation_type:   \n",
    "        metric = SegmentationMetric(monitor=m, orientation_type=o, return_type='f1', samples=75)\n",
    "        validation_metrics = validate_model_with_metrics(model, val_loader, metric, device)\n",
    "        print(f\"{m}_{o}: {round(validation_metrics, 2)}%\")"
   ]
  },
  {
   "cell_type": "markdown",
   "id": "43eb6c54-09cc-4e59-a6dd-9ea4f7ef6938",
   "metadata": {},
   "source": [
    "Можем заметить, что attention механизм действительно помог улучшить определение t волны, на данный момент она определяется с точностью примерно в 89%. P волна определяется с точностью 80%, qrs сегмент с точностью 95%. Попробуем интегрировать дополнительные алгоритмы для повышения точности сегментации."
   ]
  },
  {
   "cell_type": "markdown",
   "id": "ae5174bc-058b-442b-98b1-f956c9761d89",
   "metadata": {},
   "source": [
    "#### 1.4.8. Разработка SegNet с добавлением механизма влияния и остаточными блоками."
   ]
  },
  {
   "cell_type": "markdown",
   "id": "db9d31bf-6afe-4b7f-8b1e-b5864afff2e3",
   "metadata": {},
   "source": [
    "Для дальнейшего повышения эффективности модели можно рассмотреть добавление дополнительных усовершенствований, таких как использование глубоких остаточных блоков (deep residual blocks).  \n",
    "\n",
    "Остаточные блоки (Residual Blocks) могут помочь уменьшить проблему исчезающих градиентов в глубоких сетях, улучшая обучение и способность сети к извлечению сложных признаков без потери информации на промежуточных слоях."
   ]
  },
  {
   "cell_type": "code",
   "execution_count": 12,
   "id": "593c78c4-55ba-4c12-bbaa-a199b4dfc3dd",
   "metadata": {},
   "outputs": [
    {
     "name": "stdout",
     "output_type": "stream",
     "text": [
      "torch.Size([2, 4, 5000])\n"
     ]
    }
   ],
   "source": [
    "class ResidualBlock(nn.Module):\n",
    "    def __init__(self, num_channels):\n",
    "        super(ResidualBlock, self).__init__()\n",
    "        self.conv1 = nn.Conv1d(num_channels, num_channels, kernel_size=3, padding=1)\n",
    "        self.bn1 = nn.BatchNorm1d(num_channels)\n",
    "        self.relu = nn.ReLU(inplace=True)\n",
    "        self.conv2 = nn.Conv1d(num_channels, num_channels, kernel_size=3, padding=1)\n",
    "        self.bn2 = nn.BatchNorm1d(num_channels)\n",
    "\n",
    "    def forward(self, x):\n",
    "        residual = x\n",
    "        out = self.conv1(x)\n",
    "        out = self.bn1(out)\n",
    "        out = self.relu(out)\n",
    "        out = self.conv2(out)\n",
    "        out = self.bn2(out)\n",
    "        out += residual\n",
    "        out = self.relu(out)\n",
    "        return out\n",
    "\n",
    "class ResAttentionSegNet1D(nn.Module):\n",
    "    def __init__(self, input_channels, output_channels):\n",
    "        super(ResAttentionSegNet1D, self).__init__()\n",
    "        # Энкодер\n",
    "        self.encoder_conv1 = nn.Sequential(\n",
    "            nn.Conv1d(input_channels, 64, kernel_size=7, padding=3),\n",
    "            nn.BatchNorm1d(64),\n",
    "            nn.ReLU(inplace=True),\n",
    "            nn.Conv1d(64, 64, kernel_size=7, padding=3),\n",
    "            nn.BatchNorm1d(64),\n",
    "            nn.ReLU(inplace=True)\n",
    "        )\n",
    "        self.encoder_pool1 = nn.MaxPool1d(2, return_indices=True)\n",
    "        \n",
    "        self.encoder_conv2 = nn.Sequential(\n",
    "            nn.Conv1d(64, 128, kernel_size=7, padding=3),\n",
    "            nn.BatchNorm1d(128),\n",
    "            nn.ReLU(inplace=True),\n",
    "            nn.Conv1d(128, 128, kernel_size=7, padding=3),\n",
    "            nn.BatchNorm1d(128),\n",
    "            nn.ReLU(inplace=True)\n",
    "        )\n",
    "        self.encoder_pool2 = nn.MaxPool1d(2, return_indices=True)\n",
    "\n",
    "        self.encoder_conv3 = nn.Sequential(\n",
    "            nn.Conv1d(128, 256, kernel_size=7, padding=3),\n",
    "            nn.BatchNorm1d(256),\n",
    "            nn.ReLU(inplace=True),\n",
    "            nn.Conv1d(256, 256, kernel_size=7, padding=3),\n",
    "            nn.BatchNorm1d(256),\n",
    "            nn.ReLU(inplace=True)\n",
    "        )\n",
    "        self.encoder_pool3 = nn.MaxPool1d(2, return_indices=True)\n",
    "\n",
    "        self.encoder_conv4 = nn.Sequential(\n",
    "            nn.Conv1d(256, 512, kernel_size=7, padding=3),\n",
    "            nn.BatchNorm1d(512),\n",
    "            nn.ReLU(inplace=True),\n",
    "            nn.Conv1d(512, 512, kernel_size=7, padding=3),\n",
    "            nn.BatchNorm1d(512),\n",
    "            nn.ReLU(inplace=True)\n",
    "        )\n",
    "        self.encoder_pool4 = nn.MaxPool1d(2, return_indices=True)\n",
    "\n",
    "        # Декодер\n",
    "        self.decoder_unpool1 = nn.MaxUnpool1d(2)\n",
    "        self.decoder_conv1 = nn.Sequential(\n",
    "            nn.Conv1d(512, 512, kernel_size=7, padding=3),\n",
    "            nn.BatchNorm1d(512),\n",
    "            nn.ReLU(inplace=True),\n",
    "            nn.Conv1d(512, 256, kernel_size=8, padding=4),\n",
    "            nn.BatchNorm1d(256),\n",
    "            nn.ReLU(inplace=True)\n",
    "        )\n",
    "\n",
    "        self.decoder_unpool2 = nn.MaxUnpool1d(2)\n",
    "        self.decoder_conv2 = nn.Sequential(\n",
    "            nn.Conv1d(256, 256, kernel_size=7, padding=3),\n",
    "            nn.BatchNorm1d(256),\n",
    "            nn.ReLU(inplace=True),\n",
    "            nn.Conv1d(256, 128, kernel_size=7, padding=3),\n",
    "            nn.BatchNorm1d(128),\n",
    "            nn.ReLU(inplace=True)\n",
    "        )\n",
    "\n",
    "        self.decoder_unpool3 = nn.MaxUnpool1d(2)\n",
    "        self.decoder_conv3 = nn.Sequential(\n",
    "            nn.Conv1d(128, 128, kernel_size=7, padding=3),\n",
    "            nn.BatchNorm1d(128),\n",
    "            nn.ReLU(inplace=True),\n",
    "            nn.Conv1d(128, 64, kernel_size=7, padding=3),\n",
    "            nn.BatchNorm1d(64),\n",
    "            nn.ReLU(inplace=True)\n",
    "        )\n",
    "\n",
    "        self.decoder_unpool4 = nn.MaxUnpool1d(2)\n",
    "        self.decoder_conv4 = nn.Sequential(\n",
    "            nn.Conv1d(64, 64, kernel_size=7, padding=3),\n",
    "            nn.BatchNorm1d(64),\n",
    "            nn.ReLU(inplace=True),\n",
    "            nn.Conv1d(64, output_channels, kernel_size=7, padding=3),\n",
    "            nn.BatchNorm1d(output_channels),\n",
    "            nn.ReLU(inplace=True)\n",
    "        )\n",
    "\n",
    "        # Внедрение модуля внимания\n",
    "        self.attention1 = ChannelAttentionModule(256)\n",
    "        self.attention2 = ChannelAttentionModule(128)\n",
    "        self.attention3 = ChannelAttentionModule(64)\n",
    "        \n",
    "        # Добавление остаточных блоков\n",
    "        self.res_block1 = ResidualBlock(256)\n",
    "        self.res_block2 = ResidualBlock(128)\n",
    "        self.res_block3 = ResidualBlock(64)\n",
    "\n",
    "    def forward(self, x):\n",
    "        # Энкодер\n",
    "        x = self.encoder_conv1(x)\n",
    "        x, indices1 = self.encoder_pool1(x)\n",
    "        \n",
    "        x = self.encoder_conv2(x)\n",
    "        x, indices2 = self.encoder_pool2(x)\n",
    "\n",
    "        x = self.encoder_conv3(x)\n",
    "        x, indices3 = self.encoder_pool3(x)\n",
    "\n",
    "        x = self.encoder_conv4(x)\n",
    "        x, indices4 = self.encoder_pool4(x)\n",
    "\n",
    "        # Декодер с остаточными блоками\n",
    "        x = self.decoder_unpool1(x, indices4)\n",
    "        x = self.decoder_conv1(x)\n",
    "        x = self.res_block1(x)  # Применение остаточного блока\n",
    "        x = self.attention1(x)\n",
    "        \n",
    "        x = self.decoder_unpool2(x, indices3)\n",
    "        x = self.decoder_conv2(x)\n",
    "        x = self.res_block2(x)\n",
    "        x = self.attention2(x)\n",
    "        \n",
    "        x = self.decoder_unpool3(x, indices2)\n",
    "        x = self.decoder_conv3(x)\n",
    "        x = self.res_block3(x)\n",
    "        x = self.attention3(x)\n",
    "        \n",
    "        x = self.decoder_unpool4(x, indices1)\n",
    "        x = self.decoder_conv4(x)\n",
    "        \n",
    "        return x\n",
    "\n",
    "# Параметры модели\n",
    "input_channels = 12  # количество каналов входных данных\n",
    "output_channels = 4  # количество каналов выходных данных (классы)\n",
    "\n",
    "# Создание экземпляра модели\n",
    "model = ResAttentionSegNet1D(input_channels, output_channels)\n",
    "# Подготовим случайные входные данные\n",
    "inputs = torch.randn(2, 12, 5000)\n",
    "# Прогоним через сеть\n",
    "outputs = model(inputs)\n",
    "\n",
    "# Проверим размерность выхода\n",
    "print(outputs.shape)"
   ]
  },
  {
   "cell_type": "code",
   "execution_count": 13,
   "id": "4ac0bbbd-2506-4302-91b1-c11d196a9142",
   "metadata": {},
   "outputs": [
    {
     "name": "stdout",
     "output_type": "stream",
     "text": [
      "Epoch 1/10, Loss: 0.9126963269013864\n",
      "Epoch 2/10, Loss: 0.6644276843055502\n",
      "Epoch 3/10, Loss: 0.5640548729857842\n",
      "Epoch 4/10, Loss: 0.516757537985777\n",
      "Epoch 5/10, Loss: 0.4730615314918679\n",
      "Epoch 6/10, Loss: 0.4480995312333107\n",
      "Epoch 7/10, Loss: 0.43274807320399716\n",
      "Epoch 8/10, Loss: 0.41909791582397055\n",
      "Epoch 9/10, Loss: 0.40922268422006014\n",
      "Epoch 10/10, Loss: 0.3888601592995904\n"
     ]
    }
   ],
   "source": [
    "batch_size = 2\n",
    "num_channels = 12\n",
    "length = 5000\n",
    "num_classes = 4\n",
    "\n",
    "# Создание модели\n",
    "model = ResAttentionSegNet1D(num_channels, num_classes).to(device)\n",
    "\n",
    "# Тренировка модели\n",
    "train(model, train_loader, 10)"
   ]
  },
  {
   "cell_type": "code",
   "execution_count": 14,
   "id": "10ed9196-ce63-45c5-ba57-08469792367d",
   "metadata": {},
   "outputs": [
    {
     "name": "stdout",
     "output_type": "stream",
     "text": [
      "Current f1 score:\n",
      "p_onset: 0.83%\n",
      "p_offset: 0.83%\n",
      "t_onset: 0.84%\n",
      "t_offset: 0.85%\n",
      "qrs_onset: 0.91%\n",
      "qrs_offset: 0.89%\n"
     ]
    }
   ],
   "source": [
    "# Пример использования:\n",
    "device = torch.device(\"cuda\" if torch.cuda.is_available() else \"cpu\")\n",
    "monitor= ['p', 't', 'qrs']\n",
    "orintation_type = ['onset', 'offset']\n",
    "print(\"Current f1 score:\")\n",
    "for m in monitor:\n",
    "    for o in orintation_type:   \n",
    "        metric = SegmentationMetric(monitor=m, orientation_type=o, return_type='f1', samples=75)\n",
    "        validation_metrics = validate_model_with_metrics(model, val_loader, metric, device)\n",
    "        print(f\"{m}_{o}: {round(validation_metrics, 2)}%\")"
   ]
  },
  {
   "cell_type": "markdown",
   "id": "0b05704e-e8c3-49e6-a5ab-82eb582d6631",
   "metadata": {},
   "source": [
    "Можно заметить, что применение остаточных блоков ухудшили результаты метрик.\n",
    "Добавление остаточных блоков или других архитектурных компонентов не всегда гарантирует улучшение результатов, поскольку это зависит от ряда факторов:\n",
    "\n",
    "1. **Глубина сети и сложность задачи**:  \n",
    "Если модель изначально уже хорошо справлялась с задачей, дополнительная глубина может создать излишнюю сложность и привести к переобучению, особенно если данных для обучения недостаточно.  \n",
    "2. **Гиперпараметры**:  \n",
    "Возможно, что параметры оптимизатора, такие как скорость обучения, не были скорректированы для новой, более сложной модели, что могло замедлить или затруднить обучение.  \n",
    "3. **Собственный шум в данных**:  \n",
    "Если данные содержат много шума или погрешностей, более сложная модель может быть более чувствительна к этим ошибкам и переобучаться на них.  \n",
    "4. **Совместимость с другими компонентами**:  \n",
    "Остаточные блоки могут нарушить взаимодействие с другими частями модели, например, с механизмами внимания. Это приводит к проблемам в передаче признаков между слоями.  "
   ]
  },
  {
   "cell_type": "markdown",
   "id": "32cdbc25-3eb5-4072-a87f-3445d0e5e0bc",
   "metadata": {},
   "source": [
    "Мы можем запомнить нашу модель AttentionSegNet1D (которая на данный момент показывает наилучший результат) для дальнейших экспериментов, и попробовать другие известные архитектуры нейронных сетей."
   ]
  },
  {
   "cell_type": "markdown",
   "id": "b59bbb4f-7f99-49fe-9f21-8dedde5e5d2d",
   "metadata": {},
   "source": [
    "#### 1.4.9. Разработка DeepLabV3Plus1D."
   ]
  },
  {
   "cell_type": "markdown",
   "id": "5ce18ce2-a735-4c0b-9f75-d452ba6bc305",
   "metadata": {},
   "source": [
    "Для адаптации DeepLabV3+ под нашу задачу с одномерными сигналами, необходимо модифицировать архитектуру так, чтобы она подходила для обработки одномерных данных, вместо двумерных, как в стандартной версии, используемой для изображений. Это потребует замены всех двумерных сверточных операций на одномерные аналоги.  \n",
    "\n",
    "Основные компоненты модификации DeepLabV3+:  \n",
    "1. Одномерные сверточные слои вместо двумерных.  \n",
    "2. Одномерный Atrous Spatial Pyramid Pooling (ASPP), который адаптируется к одномерным данным.  \n",
    "3. Декодер, который адаптирован для восстановления одномерных данных.  "
   ]
  },
  {
   "cell_type": "code",
   "execution_count": 15,
   "id": "c8d5fd7c-f245-435e-8aa6-35dac4d39816",
   "metadata": {},
   "outputs": [
    {
     "name": "stdout",
     "output_type": "stream",
     "text": [
      "torch.Size([2, 4, 5000])\n"
     ]
    }
   ],
   "source": [
    "class ASPP(nn.Module):\n",
    "    def __init__(self, in_channels, out_channels):\n",
    "        super(ASPP, self).__init__()\n",
    "        self.atrous_block1 = nn.Conv1d(in_channels, out_channels, 1, padding=0)\n",
    "        self.atrous_block6 = nn.Conv1d(in_channels, out_channels, 3, padding=6, dilation=6)\n",
    "        self.atrous_block12 = nn.Conv1d(in_channels, out_channels, 3, padding=12, dilation=12)\n",
    "        self.atrous_block18 = nn.Conv1d(in_channels, out_channels, 3, padding=18, dilation=18)\n",
    "        self.conv_out = nn.Conv1d(out_channels * 4, out_channels, 1)\n",
    "        self.bn = nn.BatchNorm1d(out_channels * 4)\n",
    "        self.relu = nn.ReLU()\n",
    "\n",
    "    def forward(self, x):\n",
    "        x1 = self.atrous_block1(x)\n",
    "        x6 = self.atrous_block6(x)\n",
    "        x12 = self.atrous_block12(x)\n",
    "        x18 = self.atrous_block18(x)\n",
    "        x = torch.cat((x1, x6, x12, x18), dim=1)\n",
    "        x = self.bn(x)\n",
    "        x = self.relu(x)\n",
    "        x = self.conv_out(x)\n",
    "        return x\n",
    "\n",
    "class DeepLabV3Plus1D(nn.Module):\n",
    "    def __init__(self, input_channels, num_classes):\n",
    "        super(DeepLabV3Plus1D, self).__init__()\n",
    "        self.features = nn.Sequential(\n",
    "            nn.Conv1d(input_channels, 64, kernel_size=7, stride=2, padding=3),\n",
    "            nn.BatchNorm1d(64),\n",
    "            nn.ReLU(),\n",
    "            nn.MaxPool1d(3, stride=2, padding=1)\n",
    "        )\n",
    "        self.aspp = ASPP(64, 256)\n",
    "        self.decoder = nn.Sequential(\n",
    "            nn.Conv1d(256, 256, kernel_size=3, padding=1),\n",
    "            nn.BatchNorm1d(256),\n",
    "            nn.ReLU(),\n",
    "            nn.Conv1d(256, num_classes, kernel_size=1)\n",
    "        )\n",
    "\n",
    "    def forward(self, x):\n",
    "        x = self.features(x)\n",
    "        x = self.aspp(x)\n",
    "        x = F.interpolate(x, size=5000, mode='linear', align_corners=False)  # Upsample to match input size\n",
    "        x = self.decoder(x)\n",
    "        return x\n",
    "\n",
    "# Параметры модели\n",
    "input_channels = 12  # количество каналов входных данных\n",
    "output_channels = 4  # количество каналов выходных данных (классы)\n",
    "\n",
    "# Создание экземпляра модели\n",
    "model = DeepLabV3Plus1D(input_channels, output_channels)\n",
    "# Подготовим случайные входные данные\n",
    "inputs = torch.randn(2, 12, 5000)\n",
    "# Прогоним через сеть\n",
    "outputs = model(inputs)\n",
    "\n",
    "# Проверим размерность выхода\n",
    "print(outputs.shape)"
   ]
  },
  {
   "cell_type": "markdown",
   "id": "1c10a7c7-f215-45a4-b1c9-60971351a92d",
   "metadata": {},
   "source": [
    "В коде данной модели используются основные элементы:  \n",
    "**ASPP: Atrous Spatial Pyramid Pooling** адаптирован для 1D. Это позволяет сети захватывать контекст на разных масштабах.  \n",
    "**Декодер**: Простой декодер используется для восстановления размера до исходного, используя интерполяцию для увеличения размера выхода ASPP до размера входного сигнала."
   ]
  },
  {
   "cell_type": "code",
   "execution_count": 16,
   "id": "02efa98a-40fc-40d0-82da-66a7146de362",
   "metadata": {},
   "outputs": [
    {
     "name": "stdout",
     "output_type": "stream",
     "text": [
      "Epoch 1/10, Loss: 0.5216100996771416\n",
      "Epoch 2/10, Loss: 0.43652423863093576\n",
      "Epoch 3/10, Loss: 0.4058155930274493\n",
      "Epoch 4/10, Loss: 0.38357892342202077\n",
      "Epoch 5/10, Loss: 0.36650029105412496\n",
      "Epoch 6/10, Loss: 0.3555025284650264\n",
      "Epoch 7/10, Loss: 0.3475207235518988\n",
      "Epoch 8/10, Loss: 0.33776968819173897\n",
      "Epoch 9/10, Loss: 0.3327000017773795\n",
      "Epoch 10/10, Loss: 0.33076096045506465\n"
     ]
    }
   ],
   "source": [
    "batch_size = 2\n",
    "num_channels = 12\n",
    "length = 5000\n",
    "num_classes = 4\n",
    "\n",
    "# Создание модели\n",
    "model = DeepLabV3Plus1D(num_channels, num_classes).to(device)\n",
    "\n",
    "# Тренировка модели\n",
    "train(model, train_loader, 10)"
   ]
  },
  {
   "cell_type": "code",
   "execution_count": 17,
   "id": "a1246618-777d-4a0a-8e9d-1eba378dde23",
   "metadata": {},
   "outputs": [
    {
     "name": "stdout",
     "output_type": "stream",
     "text": [
      "Current f1 score:\n",
      "p_onset: 0.78%\n",
      "p_offset: 0.8%\n",
      "t_onset: 0.83%\n",
      "t_offset: 0.83%\n",
      "qrs_onset: 0.95%\n",
      "qrs_offset: 0.94%\n"
     ]
    }
   ],
   "source": [
    "# Пример использования:\n",
    "device = torch.device(\"cuda\" if torch.cuda.is_available() else \"cpu\")\n",
    "monitor= ['p', 't', 'qrs']\n",
    "orintation_type = ['onset', 'offset']\n",
    "print(\"Current f1 score:\")\n",
    "for m in monitor:\n",
    "    for o in orintation_type:   \n",
    "        metric = SegmentationMetric(monitor=m, orientation_type=o, return_type='f1', samples=75)\n",
    "        validation_metrics = validate_model_with_metrics(model, val_loader, metric, device)\n",
    "        print(f\"{m}_{o}: {round(validation_metrics, 2)}%\")"
   ]
  },
  {
   "cell_type": "markdown",
   "id": "ce4daf93-2e4f-4e25-b8cc-3f94980edf43",
   "metadata": {},
   "source": [
    "Сходу DeepLabV3 показал неплохой потенциал. Можно попробовать увеличить глубину сети."
   ]
  },
  {
   "cell_type": "markdown",
   "id": "fdf9ffe9-5963-41f2-9478-9e41126a9aa9",
   "metadata": {},
   "source": [
    "#### 1.4.10. Разработка DeepLabV3Plus1D с увеличинной глубиной."
   ]
  },
  {
   "cell_type": "markdown",
   "id": "afacaf69-df51-49fc-9015-df051ebe7d3d",
   "metadata": {},
   "source": [
    "Чтобы увеличить глубину модели, можно добавить больше сверточных слоев в features и decoder, а также расширить сам модуль ASPP. Однако важно сбалансировать увеличение глубины с вычислительной эффективностью и избежать излишнего усложнения."
   ]
  },
  {
   "cell_type": "code",
   "execution_count": 18,
   "id": "105c0f6e-cfce-4294-9068-c59dbf18915b",
   "metadata": {},
   "outputs": [
    {
     "name": "stdout",
     "output_type": "stream",
     "text": [
      "torch.Size([2, 4, 5000])\n"
     ]
    }
   ],
   "source": [
    "class ASPP(nn.Module):\n",
    "    def __init__(self, in_channels, out_channels):\n",
    "        super(ASPP, self).__init__()\n",
    "        self.atrous_block1 = nn.Conv1d(in_channels, out_channels, 1, padding=0)\n",
    "        self.atrous_block6 = nn.Conv1d(in_channels, out_channels, 3, padding=6, dilation=6)\n",
    "        self.atrous_block12 = nn.Conv1d(in_channels, out_channels, 3, padding=12, dilation=12)\n",
    "        self.atrous_block18 = nn.Conv1d(in_channels, out_channels, 3, padding=18, dilation=18)\n",
    "        self.atrous_block24 = nn.Conv1d(in_channels, out_channels, 3, padding=24, dilation=24)\n",
    "        self.conv_out = nn.Conv1d(out_channels * 5, out_channels, 1)\n",
    "        self.bn = nn.BatchNorm1d(out_channels * 5)\n",
    "        self.relu = nn.ReLU()\n",
    "\n",
    "    def forward(self, x):\n",
    "        x1 = self.atrous_block1(x)\n",
    "        x6 = self.atrous_block6(x)\n",
    "        x12 = self.atrous_block12(x)\n",
    "        x18 = self.atrous_block18(x)\n",
    "        x24 = self.atrous_block24(x)\n",
    "        x = torch.cat((x1, x6, x12, x18, x24), dim=1)\n",
    "        x = self.bn(x)\n",
    "        x = self.relu(x)\n",
    "        x = self.conv_out(x)\n",
    "        return x\n",
    "\n",
    "class DeepLabV3Plus1DDeeper(nn.Module):\n",
    "    def __init__(self, input_channels, num_classes):\n",
    "        super(DeepLabV3Plus1DDeeper, self).__init__()\n",
    "        self.features = nn.Sequential(\n",
    "            nn.Conv1d(input_channels, 64, kernel_size=7, stride=2, padding=3),\n",
    "            nn.BatchNorm1d(64),\n",
    "            nn.ReLU(),\n",
    "            nn.Conv1d(64, 128, kernel_size=3, stride=2, padding=1),\n",
    "            nn.BatchNorm1d(128),\n",
    "            nn.ReLU(),\n",
    "            nn.Conv1d(128, 256, kernel_size=3, stride=2, padding=1),\n",
    "            nn.BatchNorm1d(256),\n",
    "            nn.ReLU(),\n",
    "            nn.MaxPool1d(3, stride=2, padding=1)\n",
    "        )\n",
    "        self.aspp = ASPP(256, 512)\n",
    "        self.decoder = nn.Sequential(\n",
    "            nn.Conv1d(512, 256, kernel_size=3, padding=1),\n",
    "            nn.BatchNorm1d(256),\n",
    "            nn.ReLU(),\n",
    "            nn.Conv1d(256, num_classes, kernel_size=1)\n",
    "        )\n",
    "\n",
    "    def forward(self, x):\n",
    "        x = self.features(x)\n",
    "        x = self.aspp(x)\n",
    "        x = F.interpolate(x, size=5000, mode='linear', align_corners=False)\n",
    "        x = self.decoder(x)\n",
    "        return x\n",
    "\n",
    "# Параметры модели\n",
    "input_channels = 12  # количество каналов входных данных\n",
    "output_channels = 4  # количество каналов выходных данных (классы)\n",
    "\n",
    "# Создание экземпляра модели\n",
    "model = DeepLabV3Plus1DDeeper(input_channels, output_channels)\n",
    "# Подготовим случайные входные данные\n",
    "inputs = torch.randn(2, 12, 5000)\n",
    "# Прогоним через сеть\n",
    "outputs = model(inputs)\n",
    "\n",
    "# Проверим размерность выхода\n",
    "print(outputs.shape)"
   ]
  },
  {
   "cell_type": "markdown",
   "id": "c3e7aee0-c218-409f-8010-b06030088f65",
   "metadata": {},
   "source": [
    "##### Основные изменения:  \n",
    "**ASPP**: Добавлен еще один atrous_block для улавливания еще более широкого контекста.  \n",
    "**Features**: Увеличена глубина путем добавления нескольких дополнительных сверточных слоев.  \n",
    "**Decoder**: Используется простой декодер, но он обрабатывает выход более глубокой сети.  "
   ]
  },
  {
   "cell_type": "code",
   "execution_count": 19,
   "id": "7941522f-9d33-4923-a5fb-582c3f1402df",
   "metadata": {},
   "outputs": [
    {
     "name": "stdout",
     "output_type": "stream",
     "text": [
      "Epoch 1/10, Loss: 0.4955700777180783\n",
      "Epoch 2/10, Loss: 0.4043426334664419\n",
      "Epoch 3/10, Loss: 0.37184404843039326\n",
      "Epoch 4/10, Loss: 0.3540850069325466\n",
      "Epoch 5/10, Loss: 0.3397613818479049\n",
      "Epoch 6/10, Loss: 0.3222640781336791\n",
      "Epoch 7/10, Loss: 0.31029119511896913\n",
      "Epoch 8/10, Loss: 0.2984010766852986\n",
      "Epoch 9/10, Loss: 0.2897985517591625\n",
      "Epoch 10/10, Loss: 0.28214107478013284\n"
     ]
    }
   ],
   "source": [
    "batch_size = 2\n",
    "num_channels = 12\n",
    "length = 5000\n",
    "num_classes = 4\n",
    "\n",
    "# Создание модели\n",
    "model = DeepLabV3Plus1DDeeper(num_channels, num_classes).to(device)\n",
    "\n",
    "# Тренировка модели\n",
    "train(model, train_loader, 10)"
   ]
  },
  {
   "cell_type": "code",
   "execution_count": 20,
   "id": "76cf19e1-8ffa-45eb-898c-5df4fe7d45bc",
   "metadata": {},
   "outputs": [
    {
     "name": "stdout",
     "output_type": "stream",
     "text": [
      "Current f1 score:\n",
      "p_onset: 0.84%\n",
      "p_offset: 0.84%\n",
      "t_onset: 0.87%\n",
      "t_offset: 0.87%\n",
      "qrs_onset: 0.97%\n",
      "qrs_offset: 0.97%\n"
     ]
    }
   ],
   "source": [
    "# Пример использования:\n",
    "device = torch.device(\"cuda\" if torch.cuda.is_available() else \"cpu\")\n",
    "monitor= ['p', 't', 'qrs']\n",
    "orintation_type = ['onset', 'offset']\n",
    "print(\"Current f1 score:\")\n",
    "for m in monitor:\n",
    "    for o in orintation_type:   \n",
    "        metric = SegmentationMetric(monitor=m, orientation_type=o, return_type='f1', samples=75)\n",
    "        validation_metrics = validate_model_with_metrics(model, val_loader, metric, device)\n",
    "        print(f\"{m}_{o}: {round(validation_metrics, 2)}%\")"
   ]
  },
  {
   "cell_type": "markdown",
   "id": "dc01275f-df22-4002-ba02-9a3a03f2f56c",
   "metadata": {},
   "source": [
    "Отлично! С увеличением глубины сети, метрики улучшили свои показатели. Теперь p-волна определяется верно в 84% случаев, t-волна определяется верно в 87% случаев, а qrs-сегмент в 97% случаев. Можно попробовать еще увеличить глубину сети."
   ]
  },
  {
   "cell_type": "markdown",
   "id": "40926e2e-1467-400f-8430-4b6a227f7dda",
   "metadata": {},
   "source": [
    "#### 1.4.11. Разработка DeepLabV3Plus1D с увеличинной глубиной V2."
   ]
  },
  {
   "cell_type": "markdown",
   "id": "3d0d12f3-4070-4fbf-992f-71642689bfd1",
   "metadata": {},
   "source": [
    "В коде ниже приведена модель с еще большим количеством внутренних сверточных слоев в сравнении с моделью выше."
   ]
  },
  {
   "cell_type": "code",
   "execution_count": 21,
   "id": "7aecdd2a-3bc9-4c67-9998-37b25b66e7b8",
   "metadata": {},
   "outputs": [
    {
     "name": "stdout",
     "output_type": "stream",
     "text": [
      "The history saving thread hit an unexpected error (OperationalError('attempt to write a readonly database')).History will not be written to the database.\n",
      "torch.Size([2, 4, 5000])\n"
     ]
    }
   ],
   "source": [
    "class ASPP(nn.Module):\n",
    "    def __init__(self, in_channels, out_channels):\n",
    "        super(ASPP, self).__init__()\n",
    "        self.atrous_block1 = nn.Conv1d(in_channels, out_channels, 1, padding=0)\n",
    "        self.atrous_block6 = nn.Conv1d(in_channels, out_channels, 3, padding=6, dilation=6)\n",
    "        self.atrous_block12 = nn.Conv1d(in_channels, out_channels, 3, padding=12, dilation=12)\n",
    "        self.atrous_block18 = nn.Conv1d(in_channels, out_channels, 3, padding=18, dilation=18)\n",
    "        self.atrous_block24 = nn.Conv1d(in_channels, out_channels, 3, padding=24, dilation=24)\n",
    "        self.conv_out = nn.Conv1d(out_channels * 5, out_channels, 1)\n",
    "        self.bn = nn.BatchNorm1d(out_channels * 5)\n",
    "        self.relu = nn.ReLU()\n",
    "\n",
    "    def forward(self, x):\n",
    "        x1 = self.atrous_block1(x)\n",
    "        x6 = self.atrous_block6(x)\n",
    "        x12 = self.atrous_block12(x)\n",
    "        x18 = self.atrous_block18(x)\n",
    "        x24 = self.atrous_block24(x)\n",
    "        x = torch.cat((x1, x6, x12, x18, x24), dim=1)\n",
    "        x = self.bn(x)\n",
    "        x = self.relu(x)\n",
    "        x = self.conv_out(x)\n",
    "        return x\n",
    "\n",
    "class DeeperV2DeepLabV3Plus1D(nn.Module):\n",
    "    def __init__(self, input_channels, num_classes):\n",
    "        super(DeeperV2DeepLabV3Plus1D, self).__init__()\n",
    "        \n",
    "        # Глубокая часть features\n",
    "        self.features = nn.Sequential(\n",
    "            nn.Conv1d(input_channels, 64, kernel_size=7, stride=2, padding=3),\n",
    "            nn.BatchNorm1d(64),\n",
    "            nn.ReLU(),\n",
    "            nn.Conv1d(64, 128, kernel_size=3, stride=2, padding=1),\n",
    "            nn.BatchNorm1d(128),\n",
    "            nn.ReLU(),\n",
    "            nn.Conv1d(128, 256, kernel_size=3, stride=2, padding=1),\n",
    "            nn.BatchNorm1d(256),\n",
    "            nn.ReLU(),\n",
    "            nn.Conv1d(256, 512, kernel_size=3, stride=2, padding=1),\n",
    "            nn.BatchNorm1d(512),\n",
    "            nn.ReLU(),\n",
    "            nn.Conv1d(512, 1024, kernel_size=3, stride=2, padding=1),\n",
    "            nn.BatchNorm1d(1024),\n",
    "            nn.ReLU(),\n",
    "            nn.MaxPool1d(3, stride=2, padding=1)\n",
    "        )\n",
    "        \n",
    "        # Расширенный ASPP\n",
    "        self.aspp = ASPP(1024, 512)\n",
    "        \n",
    "        # Декодер\n",
    "        self.decoder = nn.Sequential(\n",
    "            nn.Conv1d(512, 256, kernel_size=3, padding=1),\n",
    "            nn.BatchNorm1d(256),\n",
    "            nn.ReLU(),\n",
    "            nn.Conv1d(256, 128, kernel_size=3, padding=1),\n",
    "            nn.BatchNorm1d(128),\n",
    "            nn.ReLU(),\n",
    "            nn.Conv1d(128, num_classes, kernel_size=1)\n",
    "        )\n",
    "\n",
    "    def forward(self, x):\n",
    "        x = self.features(x)\n",
    "        x = self.aspp(x)\n",
    "        x = F.interpolate(x, size=5000, mode='linear', align_corners=False)\n",
    "        x = self.decoder(x)\n",
    "        return x\n",
    "\n",
    "\n",
    "# Параметры модели\n",
    "input_channels = 12  # количество каналов входных данных\n",
    "output_channels = 4  # количество каналов выходных данных (классы)\n",
    "\n",
    "# Создание экземпляра модели\n",
    "model = DeeperV2DeepLabV3Plus1D(input_channels, output_channels)\n",
    "# Подготовим случайные входные данные\n",
    "inputs = torch.randn(2, 12, 5000)\n",
    "# Прогоним через сеть\n",
    "outputs = model(inputs)\n",
    "\n",
    "# Проверим размерность выхода\n",
    "print(outputs.shape)"
   ]
  },
  {
   "cell_type": "code",
   "execution_count": 22,
   "id": "29ac196a-f3c0-44a0-b6ab-99e05dd467e3",
   "metadata": {},
   "outputs": [
    {
     "name": "stdout",
     "output_type": "stream",
     "text": [
      "Epoch 1/10, Loss: 0.6515575771207933\n",
      "Epoch 2/10, Loss: 0.510515233622743\n",
      "Epoch 3/10, Loss: 0.46010751838420894\n",
      "Epoch 4/10, Loss: 0.43143183486415193\n",
      "Epoch 5/10, Loss: 0.4098713038029609\n",
      "Epoch 6/10, Loss: 0.3902985785978955\n",
      "Epoch 7/10, Loss: 0.37068793022787416\n",
      "Epoch 8/10, Loss: 0.359357797383488\n",
      "Epoch 9/10, Loss: 0.34757704336147804\n",
      "Epoch 10/10, Loss: 0.3353833139620044\n"
     ]
    }
   ],
   "source": [
    "batch_size = 2\n",
    "num_channels = 12\n",
    "length = 5000\n",
    "num_classes = 4\n",
    "\n",
    "# Создание модели\n",
    "model = DeeperV2DeepLabV3Plus1D(num_channels, num_classes).to(device)\n",
    "\n",
    "# Тренировка модели\n",
    "train(model, train_loader, 10)"
   ]
  },
  {
   "cell_type": "code",
   "execution_count": 23,
   "id": "93c7c0f0-0218-41de-a981-8b2f42ec69a3",
   "metadata": {},
   "outputs": [
    {
     "name": "stdout",
     "output_type": "stream",
     "text": [
      "Current f1 score:\n",
      "p_onset: 0.79%\n",
      "p_offset: 0.83%\n",
      "t_onset: 0.88%\n",
      "t_offset: 0.87%\n",
      "qrs_onset: 0.96%\n",
      "qrs_offset: 0.96%\n"
     ]
    }
   ],
   "source": [
    "# Пример использования:\n",
    "device = torch.device(\"cuda\" if torch.cuda.is_available() else \"cpu\")\n",
    "monitor= ['p', 't', 'qrs']\n",
    "orintation_type = ['onset', 'offset']\n",
    "print(\"Current f1 score:\")\n",
    "for m in monitor:\n",
    "    for o in orintation_type:   \n",
    "        metric = SegmentationMetric(monitor=m, orientation_type=o, return_type='f1', samples=75)\n",
    "        validation_metrics = validate_model_with_metrics(model, val_loader, metric, device)\n",
    "        print(f\"{m}_{o}: {round(validation_metrics, 2)}%\")"
   ]
  },
  {
   "cell_type": "markdown",
   "id": "7cbcaa6b-aecc-490e-ad79-65d61d439b57",
   "metadata": {},
   "source": [
    "Как и ожидалось, еще большее увеличение глубины сети не привело к положительным результатам. Причин этому может быть множество: \n",
    "\n",
    "\n",
    "**Переобучение**: Более глубокая модель может быть более склонна к переобучению на данных обучения, особенно если обучающий набор данных невелик. Проверка на переобучение может помочь выявить проблему.  \n",
    "**Недостаточно данных:** Глубокие модели обычно требуют большого количества данных для эффективного обучения. Если данных недостаточно, модель не сможет учиться на всех уровнях глубины.  \n",
    "**Избыточная сложность:** Глубокие сети могут стать слишком сложными для задачи, в результате чего они не могут правильно учить необходимые признаки.\n",
    "Проблемы с обучением: Увеличение глубины может затруднить обучение, приводя к затуханию градиентов или другим проблемам. Добавление слоев нормализации, изменения функции активации или уменьшение шага обучения может улучшить стабильность.  \n",
    "**Время тренировки:** Более глубокая модель может потребовать больше времени для конвергенции. Возможно, стоит увеличить количество эпох или проверить кривые обучения, чтобы понять, достигается ли стабильная точка.  \n",
    "\n",
    "**Поэтому есть смысл вернуться к предыдущей версии и продолжить работу над ней.**"
   ]
  },
  {
   "cell_type": "markdown",
   "id": "9a638578-db14-4103-830a-f097bccdf25d",
   "metadata": {},
   "source": [
    "#### 1.4.12. Разработка DeepLabV3Plus1D с применением регуляризации."
   ]
  },
  {
   "cell_type": "markdown",
   "id": "5a14afbc-6bb6-4362-bf31-3b76acd7a895",
   "metadata": {},
   "source": [
    "В коде модели ниже попробуем применить алгоритм регуляризации. Чтобы избежать переобучения, добавим слой Dropout в декодер. Это помогает случайно отключать некоторые нейроны во время тренировки, что повышает обобщающую способность модели."
   ]
  },
  {
   "cell_type": "code",
   "execution_count": 24,
   "id": "3ee830da-3d40-45ad-801f-2a6568389181",
   "metadata": {},
   "outputs": [
    {
     "name": "stdout",
     "output_type": "stream",
     "text": [
      "torch.Size([2, 4, 5000])\n"
     ]
    }
   ],
   "source": [
    "class ASPP(nn.Module):\n",
    "    def __init__(self, in_channels, out_channels):\n",
    "        super(ASPP, self).__init__()\n",
    "        self.atrous_block1 = nn.Conv1d(in_channels, out_channels, 1, padding=0)\n",
    "        self.atrous_block6 = nn.Conv1d(in_channels, out_channels, 3, padding=6, dilation=6)\n",
    "        self.atrous_block12 = nn.Conv1d(in_channels, out_channels, 3, padding=12, dilation=12)\n",
    "        self.atrous_block18 = nn.Conv1d(in_channels, out_channels, 3, padding=18, dilation=18)\n",
    "        self.atrous_block24 = nn.Conv1d(in_channels, out_channels, 3, padding=24, dilation=24)\n",
    "        self.conv_out = nn.Conv1d(out_channels * 5, out_channels, 1)\n",
    "        self.bn = nn.BatchNorm1d(out_channels * 5)\n",
    "        self.relu = nn.ReLU()\n",
    "\n",
    "    def forward(self, x):\n",
    "        x1 = self.atrous_block1(x)\n",
    "        x6 = self.atrous_block6(x)\n",
    "        x12 = self.atrous_block12(x)\n",
    "        x18 = self.atrous_block18(x)\n",
    "        x24 = self.atrous_block24(x)\n",
    "        x = torch.cat((x1, x6, x12, x18, x24), dim=1)\n",
    "        x = self.bn(x)\n",
    "        x = self.relu(x)\n",
    "        x = self.conv_out(x)\n",
    "        return x\n",
    "\n",
    "class DeepLabV3Plus1DWithDropout(nn.Module):\n",
    "    def __init__(self, input_channels, num_classes):\n",
    "        super(DeepLabV3Plus1DWithDropout, self).__init__()\n",
    "        self.features = nn.Sequential(\n",
    "            nn.Conv1d(input_channels, 64, kernel_size=7, stride=2, padding=3),\n",
    "            nn.BatchNorm1d(64),\n",
    "            nn.ReLU(),\n",
    "            nn.Conv1d(64, 128, kernel_size=3, stride=2, padding=1),\n",
    "            nn.BatchNorm1d(128),\n",
    "            nn.ReLU(),\n",
    "            nn.Conv1d(128, 256, kernel_size=3, stride=2, padding=1),\n",
    "            nn.BatchNorm1d(256),\n",
    "            nn.ReLU(),\n",
    "            nn.MaxPool1d(3, stride=2, padding=1)\n",
    "        )\n",
    "        self.aspp = ASPP(256, 512)\n",
    "        self.decoder = nn.Sequential(\n",
    "            nn.Conv1d(512, 256, kernel_size=3, padding=1),\n",
    "            nn.BatchNorm1d(256),\n",
    "            nn.ReLU(),\n",
    "            nn.Dropout(0.5),\n",
    "            nn.Conv1d(256, num_classes, kernel_size=1)\n",
    "        )\n",
    "\n",
    "    def forward(self, x):\n",
    "        x = self.features(x)\n",
    "        x = self.aspp(x)\n",
    "        x = F.interpolate(x, size=5000, mode='linear', align_corners=False)\n",
    "        x = self.decoder(x)\n",
    "        return x\n",
    "\n",
    "# Параметры модели\n",
    "input_channels = 12  # количество каналов входных данных\n",
    "output_channels = 4  # количество каналов выходных данных (классы)\n",
    "\n",
    "# Создание экземпляра модели\n",
    "model = DeepLabV3Plus1DWithDropout(input_channels, output_channels)\n",
    "# Подготовим случайные входные данные\n",
    "inputs = torch.randn(2, 12, 5000)\n",
    "# Прогоним через сеть\n",
    "outputs = model(inputs)\n",
    "\n",
    "# Проверим размерность выхода\n",
    "print(outputs.shape)"
   ]
  },
  {
   "cell_type": "code",
   "execution_count": 29,
   "id": "8783872c-3071-4b01-a2a3-b4c447aa33de",
   "metadata": {},
   "outputs": [
    {
     "name": "stdout",
     "output_type": "stream",
     "text": [
      "Epoch 1/10, Loss: 0.5073283406627642\n",
      "Epoch 2/10, Loss: 0.4183159870180217\n",
      "Epoch 3/10, Loss: 0.37850316894518865\n",
      "Epoch 4/10, Loss: 0.36429170761015506\n",
      "Epoch 5/10, Loss: 0.3447778277195893\n",
      "Epoch 6/10, Loss: 0.33459307954876455\n",
      "Epoch 7/10, Loss: 0.32322686291360236\n",
      "Epoch 8/10, Loss: 0.3092404562834795\n",
      "Epoch 9/10, Loss: 0.30152198256223234\n",
      "Epoch 10/10, Loss: 0.2921982475302436\n"
     ]
    }
   ],
   "source": [
    "batch_size = 2\n",
    "num_channels = 12\n",
    "length = 5000\n",
    "num_classes = 4\n",
    "\n",
    "# Создание модели\n",
    "model = DeepLabV3Plus1DWithDropout(num_channels, num_classes).to(device)\n",
    "\n",
    "# Тренировка модели\n",
    "train(model, train_loader, 10)"
   ]
  },
  {
   "cell_type": "code",
   "execution_count": 30,
   "id": "f98e8945-2dc3-4b71-b07f-a010eb45c549",
   "metadata": {},
   "outputs": [
    {
     "name": "stdout",
     "output_type": "stream",
     "text": [
      "Current f1 score:\n",
      "p_onset: 0.82%\n",
      "p_offset: 0.82%\n",
      "t_onset: 0.88%\n",
      "t_offset: 0.87%\n",
      "qrs_onset: 0.96%\n",
      "qrs_offset: 0.96%\n"
     ]
    }
   ],
   "source": [
    "# Пример использования:\n",
    "device = torch.device(\"cuda\" if torch.cuda.is_available() else \"cpu\")\n",
    "monitor= ['p', 't', 'qrs']\n",
    "orintation_type = ['onset', 'offset']\n",
    "print(\"Current f1 score:\")\n",
    "for m in monitor:\n",
    "    for o in orintation_type:   \n",
    "        metric = SegmentationMetric(monitor=m, orientation_type=o, return_type='f1', samples=75)\n",
    "        validation_metrics = validate_model_with_metrics(model, val_loader, metric, device)\n",
    "        print(f\"{m}_{o}: {round(validation_metrics, 2)}%\")"
   ]
  },
  {
   "cell_type": "markdown",
   "id": "97b9c631-fd7e-4189-98d2-65d484ecbb8d",
   "metadata": {},
   "source": [
    "Можно сказать, что при применении Dropout метрики несколько ухудшились, возможно, это произошло по одной из нескольких причин:  \n",
    "\n",
    "**1. Недостаточное количество данных:** Если тренировочный набор данных невелик, использование Dropout может привести к потере важных признаков, необходимых для обобщения. Это особенно заметно, когда Dropout слишком высок или применяется к большим слоям.  \n",
    "**2. Слишком высокое значение Dropout:** Если коэффициент Dropout слишком высок, модель может потерять слишком много нейронов в процессе тренировки, что приведет к недостаточной производительности.  \n",
    "**3. Изменения в структуре нейронной сети:** При использовании Dropout меняется структура нейронной сети, так как случайным образом отключаются нейроны. Если отключенные нейроны несут существенную информацию, модель не сможет должным образом обучиться на ограниченном наборе данных.  \n",
    "**4. Недостаточное время тренировки:** Dropout обычно требует большего времени для тренировки, чтобы модель могла обобщить признаки из данных. Если модель обучается недостаточно долго, она может не достичь своего полного потенциала.  \n",
    "**Чтобы минимизировать негативный эффект от Dropout, можно использовать более низкие значения коэффициента (например, 0.2 - 0.3) или применять его только к верхним слоям сети.**"
   ]
  },
  {
   "cell_type": "markdown",
   "id": "12ecf857-7368-464d-b79d-01625108e8a9",
   "metadata": {},
   "source": [
    "#### 1.4.13. Разработка DeepLabV3Plus1D с применением регуляризации на верхнем слое."
   ]
  },
  {
   "cell_type": "markdown",
   "id": "eb473ff2-fabf-4f41-b73b-b142893e72c4",
   "metadata": {},
   "source": [
    "В данном коде происходят эксперименты с различным местоположением Dropout, а также со значением регуляризации."
   ]
  },
  {
   "cell_type": "code",
   "execution_count": 31,
   "id": "db7d8cec-690d-489c-a673-4ae0e831fa52",
   "metadata": {},
   "outputs": [
    {
     "name": "stdout",
     "output_type": "stream",
     "text": [
      "torch.Size([2, 4, 5000])\n"
     ]
    }
   ],
   "source": [
    "class ASPP(nn.Module):\n",
    "    def __init__(self, in_channels, out_channels):\n",
    "        super(ASPP, self).__init__()\n",
    "        self.atrous_block1 = nn.Conv1d(in_channels, out_channels, 1, padding=0)\n",
    "        self.atrous_block6 = nn.Conv1d(in_channels, out_channels, 3, padding=6, dilation=6)\n",
    "        self.atrous_block12 = nn.Conv1d(in_channels, out_channels, 3, padding=12, dilation=12)\n",
    "        self.atrous_block18 = nn.Conv1d(in_channels, out_channels, 3, padding=18, dilation=18)\n",
    "        self.atrous_block24 = nn.Conv1d(in_channels, out_channels, 3, padding=24, dilation=24)\n",
    "        self.conv_out = nn.Conv1d(out_channels * 5, out_channels, 1)\n",
    "        self.bn = nn.BatchNorm1d(out_channels * 5)\n",
    "        self.relu = nn.ReLU()\n",
    "\n",
    "    def forward(self, x):\n",
    "        x1 = self.atrous_block1(x)\n",
    "        x6 = self.atrous_block6(x)\n",
    "        x12 = self.atrous_block12(x)\n",
    "        x18 = self.atrous_block18(x)\n",
    "        x24 = self.atrous_block24(x)\n",
    "        x = torch.cat((x1, x6, x12, x18, x24), dim=1)\n",
    "        x = self.bn(x)\n",
    "        x = self.relu(x)\n",
    "        x = self.conv_out(x)\n",
    "        return x\n",
    "\n",
    "class DeepLabV3Plus1DWithDropoutExp(nn.Module):\n",
    "    def __init__(self, input_channels, num_classes):\n",
    "        super(DeepLabV3Plus1DWithDropoutExp, self).__init__()\n",
    "        self.features = nn.Sequential(\n",
    "            nn.Conv1d(input_channels, 64, kernel_size=7, stride=2, padding=3),\n",
    "            nn.BatchNorm1d(64),\n",
    "            nn.ReLU(),\n",
    "            nn.Conv1d(64, 128, kernel_size=3, stride=2, padding=1),\n",
    "            nn.BatchNorm1d(128),\n",
    "            nn.ReLU(),\n",
    "            nn.Conv1d(128, 256, kernel_size=3, stride=2, padding=1),\n",
    "            nn.BatchNorm1d(256),\n",
    "            nn.Dropout(0.3),\n",
    "            nn.ReLU(),\n",
    "            nn.MaxPool1d(3, stride=2, padding=1)\n",
    "        )\n",
    "        self.aspp = ASPP(256, 512)\n",
    "        self.decoder = nn.Sequential(\n",
    "            nn.Conv1d(512, 256, kernel_size=3, padding=1),\n",
    "            nn.BatchNorm1d(256),\n",
    "            nn.ReLU(),\n",
    "            nn.Conv1d(256, num_classes, kernel_size=1)\n",
    "        )\n",
    "\n",
    "    def forward(self, x):\n",
    "        x = self.features(x)\n",
    "        x = self.aspp(x)\n",
    "        x = F.interpolate(x, size=5000, mode='linear', align_corners=False)\n",
    "        x = self.decoder(x)\n",
    "        return x\n",
    "\n",
    "# Параметры модели\n",
    "input_channels = 12  # количество каналов входных данных\n",
    "output_channels = 4  # количество каналов выходных данных (классы)\n",
    "\n",
    "# Создание экземпляра модели\n",
    "model = DeepLabV3Plus1DWithDropoutExp(input_channels, output_channels)\n",
    "# Подготовим случайные входные данные\n",
    "inputs = torch.randn(2, 12, 5000)\n",
    "# Прогоним через сеть\n",
    "outputs = model(inputs)\n",
    "\n",
    "# Проверим размерность выхода\n",
    "print(outputs.shape)"
   ]
  },
  {
   "cell_type": "code",
   "execution_count": 32,
   "id": "d6313ff0-21b7-4bab-a245-850c71bd2d67",
   "metadata": {},
   "outputs": [
    {
     "name": "stdout",
     "output_type": "stream",
     "text": [
      "Epoch 1/10, Loss: 0.5175894674929705\n",
      "Epoch 2/10, Loss: 0.41570269069694854\n",
      "Epoch 3/10, Loss: 0.37689673474856783\n",
      "Epoch 4/10, Loss: 0.3630341315134005\n",
      "Epoch 5/10, Loss: 0.34501567981266357\n",
      "Epoch 6/10, Loss: 0.33349452070988617\n",
      "Epoch 7/10, Loss: 0.31776258102678634\n",
      "Epoch 8/10, Loss: 0.30863238556625006\n",
      "Epoch 9/10, Loss: 0.3008251528364497\n",
      "Epoch 10/10, Loss: 0.29363260171436645\n"
     ]
    }
   ],
   "source": [
    "batch_size = 2\n",
    "num_channels = 12\n",
    "length = 5000\n",
    "num_classes = 4\n",
    "\n",
    "# Создание модели\n",
    "model = DeepLabV3Plus1DWithDropout(num_channels, num_classes).to(device)\n",
    "\n",
    "# Тренировка модели\n",
    "train(model, train_loader, 10)"
   ]
  },
  {
   "cell_type": "code",
   "execution_count": 33,
   "id": "06d17f6d-1c1a-4a8a-bf7c-e9455cc383b0",
   "metadata": {},
   "outputs": [
    {
     "name": "stdout",
     "output_type": "stream",
     "text": [
      "Current f1 score:\n",
      "p_onset: 0.83%\n",
      "p_offset: 0.83%\n",
      "t_onset: 0.84%\n",
      "t_offset: 0.84%\n",
      "qrs_onset: 0.95%\n",
      "qrs_offset: 0.95%\n"
     ]
    }
   ],
   "source": [
    "# Пример использования:\n",
    "device = torch.device(\"cuda\" if torch.cuda.is_available() else \"cpu\")\n",
    "monitor= ['p', 't', 'qrs']\n",
    "orintation_type = ['onset', 'offset']\n",
    "print(\"Current f1 score:\")\n",
    "for m in monitor:\n",
    "    for o in orintation_type:   \n",
    "        metric = SegmentationMetric(monitor=m, orientation_type=o, return_type='f1', samples=75)\n",
    "        validation_metrics = validate_model_with_metrics(model, val_loader, metric, device)\n",
    "        print(f\"{m}_{o}: {round(validation_metrics, 2)}%\")"
   ]
  },
  {
   "cell_type": "markdown",
   "id": "991226df-facb-4018-adbf-092f2b8ead85",
   "metadata": {},
   "source": [
    "После различных экспериментов с местоположением Dropout и значением коэффициента регуляризации, так и не получилось найти оптимальные значения для Dropout, чтобы повысить точность сегментации. Давайте аналогично с SegNet попробуем применить механизм внимания."
   ]
  },
  {
   "cell_type": "markdown",
   "id": "f5e617e1-57cb-4a97-b3cc-002688641bd8",
   "metadata": {},
   "source": [
    "#### 1.4.14. Разработка DeepLabV3Plus1D с применением механизма внимания."
   ]
  },
  {
   "cell_type": "code",
   "execution_count": 34,
   "id": "08432f32-4705-46a8-a2c9-4284b98292af",
   "metadata": {},
   "outputs": [
    {
     "name": "stdout",
     "output_type": "stream",
     "text": [
      "torch.Size([2, 4, 5000])\n"
     ]
    }
   ],
   "source": [
    "class ChannelAttention(nn.Module):\n",
    "    def __init__(self, num_channels, reduction_ratio=16):\n",
    "        super(ChannelAttention, self).__init__()\n",
    "        self.avg_pool = nn.AdaptiveAvgPool1d(1)\n",
    "        self.fc = nn.Sequential(\n",
    "            nn.Linear(num_channels, num_channels // reduction_ratio),\n",
    "            nn.ReLU(),\n",
    "            nn.Linear(num_channels // reduction_ratio, num_channels),\n",
    "            nn.Sigmoid()\n",
    "        )\n",
    "\n",
    "    def forward(self, x):\n",
    "        b, c, _ = x.size()\n",
    "        y = self.avg_pool(x).view(b, c)\n",
    "        y = self.fc(y).view(b, c, 1)\n",
    "        return x * y.expand_as(x)\n",
    "\n",
    "# Внедрение модуля внимания в DeepLabV3+ модель\n",
    "class DeepLabV3Plus1DAttention(nn.Module):\n",
    "    def __init__(self, input_channels, num_classes):\n",
    "        super(DeepLabV3Plus1DAttention, self).__init__()\n",
    "        self.features = nn.Sequential(\n",
    "            nn.Conv1d(input_channels, 64, kernel_size=7, stride=2, padding=3),\n",
    "            nn.BatchNorm1d(64),\n",
    "            nn.ReLU(),\n",
    "            ChannelAttention(64),\n",
    "            nn.Conv1d(64, 128, kernel_size=3, stride=2, padding=1),\n",
    "            nn.BatchNorm1d(128),\n",
    "            nn.ReLU(),\n",
    "            ChannelAttention(128),\n",
    "            nn.Conv1d(128, 256, kernel_size=3, stride=2, padding=1),\n",
    "            nn.BatchNorm1d(256),\n",
    "            nn.ReLU(),\n",
    "            ChannelAttention(256),\n",
    "            nn.MaxPool1d(3, stride=2, padding=1)\n",
    "        )\n",
    "        self.aspp = ASPP(256, 512)\n",
    "        self.decoder = nn.Sequential(\n",
    "            nn.Conv1d(512, 256, kernel_size=3, padding=1),\n",
    "            nn.BatchNorm1d(256),\n",
    "            nn.ReLU(),\n",
    "            ChannelAttention(256),\n",
    "            nn.Conv1d(256, num_classes, kernel_size=1)\n",
    "        )\n",
    "\n",
    "    def forward(self, x):\n",
    "        x = self.features(x)\n",
    "        x = self.aspp(x)\n",
    "        x = F.interpolate(x, size=5000, mode='linear', align_corners=False)\n",
    "        x = self.decoder(x)\n",
    "        return x\n",
    "\n",
    "\n",
    "# Создание экземпляра модели\n",
    "model = DeepLabV3Plus1DAttention(input_channels, output_channels)\n",
    "# Подготовим случайные входные данные\n",
    "inputs = torch.randn(2, 12, 5000)\n",
    "# Прогоним через сеть\n",
    "outputs = model(inputs)\n",
    "\n",
    "# Проверим размерность выхода\n",
    "print(outputs.shape)"
   ]
  },
  {
   "cell_type": "code",
   "execution_count": 37,
   "id": "a4f357d4-282a-41ce-a673-b9d494c74706",
   "metadata": {},
   "outputs": [
    {
     "name": "stdout",
     "output_type": "stream",
     "text": [
      "Epoch 1/5, Loss: 0.5096973515563197\n",
      "Epoch 2/5, Loss: 0.4027113329570789\n",
      "Epoch 3/5, Loss: 0.3721889052781966\n",
      "Epoch 4/5, Loss: 0.3489404898378756\n",
      "Epoch 5/5, Loss: 0.3320257574223079\n"
     ]
    }
   ],
   "source": [
    "batch_size = 2\n",
    "num_channels = 12\n",
    "length = 5000\n",
    "num_classes = 4\n",
    "\n",
    "# Создание модели\n",
    "model = DeepLabV3Plus1DAttention(num_channels, num_classes).to(device)\n",
    "\n",
    "# Тренировка модели\n",
    "train(model, train_loader, 5)"
   ]
  },
  {
   "cell_type": "code",
   "execution_count": 38,
   "id": "37743e08-a192-4fd8-a493-80728c195caa",
   "metadata": {},
   "outputs": [
    {
     "name": "stdout",
     "output_type": "stream",
     "text": [
      "Current f1 score:\n",
      "p_onset: 0.84%\n",
      "p_offset: 0.82%\n",
      "t_onset: 0.85%\n",
      "t_offset: 0.85%\n",
      "qrs_onset: 0.95%\n",
      "qrs_offset: 0.95%\n"
     ]
    }
   ],
   "source": [
    "# Пример использования:\n",
    "device = torch.device(\"cuda\" if torch.cuda.is_available() else \"cpu\")\n",
    "monitor= ['p', 't', 'qrs']\n",
    "orintation_type = ['onset', 'offset']\n",
    "print(\"Current f1 score:\")\n",
    "for m in monitor:\n",
    "    for o in orintation_type:   \n",
    "        metric = SegmentationMetric(monitor=m, orientation_type=o, return_type='f1', samples=75)\n",
    "        validation_metrics = validate_model_with_metrics(model, val_loader, metric, device)\n",
    "        print(f\"{m}_{o}: {round(validation_metrics, 2)}%\")"
   ]
  },
  {
   "cell_type": "markdown",
   "id": "56ea2290-7013-445c-b49c-75193c1f60bd",
   "metadata": {},
   "source": [
    "Механзим внимания к DeepLabV3 не дал ожидаемых результатов, поэтому есть смысл запомнить модель из раздела DeepLab с названием DeepLabV3Plus1DDeeper для дальнейших экспериментов, так как эта модель показала неплохие результаты на данный момент."
   ]
  },
  {
   "cell_type": "code",
   "execution_count": null,
   "id": "4565ffaf-c02b-4b89-a0e0-527b91dd2e02",
   "metadata": {},
   "outputs": [],
   "source": []
  },
  {
   "cell_type": "markdown",
   "id": "b1c52fbc-a31c-4335-9159-88dd84ecf8ef",
   "metadata": {},
   "source": [
    "### 1.5 Работа и анализ UNet от ученых ННГУ"
   ]
  },
  {
   "cell_type": "markdown",
   "id": "9d87d2f0-60c6-4118-8e05-26f477d6463e",
   "metadata": {},
   "source": [
    "Объявим модель, которую разработали ученые ННГУ и проверим точность на ней."
   ]
  },
  {
   "cell_type": "code",
   "execution_count": 108,
   "id": "c933f9b9-1037-4358-80b4-e65597748c79",
   "metadata": {},
   "outputs": [],
   "source": [
    "\n",
    "class UNetConv(nn.Module):\n",
    "    def __init__(self, in_channels, out_channels, ks, p):\n",
    "        in_channels = int(in_channels)\n",
    "        out_channels = int(out_channels)\n",
    "        super(UNetConv, self).__init__()\n",
    "        self._model = nn.Sequential(\n",
    "            nn.Conv1d(in_channels, out_channels, kernel_size=ks, padding=ks//2),\n",
    "            nn.BatchNorm1d(out_channels),\n",
    "            nn.ReLU(),\n",
    "            nn.Dropout1d(p=p),\n",
    "            nn.Conv1d(out_channels, out_channels, kernel_size=ks, padding=ks//2),\n",
    "            nn.BatchNorm1d(out_channels),\n",
    "            nn.ReLU()\n",
    "        )\n",
    "    \n",
    "    def forward(self, X):\n",
    "        return self._model(X)\n",
    "    \n",
    "    \n",
    "class UNetDown(nn.Module):\n",
    "    def __init__(self, in_channels, out_channels, ks, p):\n",
    "        super(UNetDown, self).__init__()\n",
    "        self._model = nn.Sequential(\n",
    "            nn.MaxPool1d(2),\n",
    "            UNetConv(in_channels, out_channels, ks, p)\n",
    "        )\n",
    "    \n",
    "    def forward(self, X):\n",
    "        return self._model(X)\n",
    "    \n",
    "\n",
    "class UNetUp(nn.Module):\n",
    "    def __init__(self, in_channels, in_channels_skip, out_channels, ks, p):\n",
    "        super(UNetUp, self).__init__()\n",
    "        in_channels = int(in_channels)\n",
    "        in_channels_skip = int(in_channels_skip)\n",
    "        out_channels = int(out_channels)\n",
    "        \n",
    "        self._up = nn.ConvTranspose1d(in_channels, in_channels, \n",
    "                                      kernel_size=ks - 1,\n",
    "                                      stride=2, \n",
    "                                      padding=(ks - 1) // 2 - 1)\n",
    "        self._model = UNetConv(in_channels + in_channels_skip, out_channels, ks, p)\n",
    "    \n",
    "    def forward(self, X_skip, X):\n",
    "        X = self._up(X)  \n",
    "        diff = X_skip.size()[2] - X.size()[2]\n",
    "        X = F.pad(X, (diff // 2, diff - diff // 2))  \n",
    "        return self._model(torch.cat([X_skip, X], dim=1))\n",
    "    \n",
    "\n",
    "class Encoder(nn.Module):\n",
    "    def __init__(self, in_channels, channels_coeff=1, q=2, kernel_size=23, p=0.1):\n",
    "        super(Encoder, self).__init__()\n",
    "        self.in_channels = in_channels\n",
    "        self.kernel_size = kernel_size\n",
    "        self.q = q\n",
    "        self.p = p\n",
    "        self._input = UNetConv(q ** 0 * self.in_channels, q ** 1 * in_channels, kernel_size, p)\n",
    "        self._down1 = UNetDown(q ** 1 * self.in_channels, q ** 2 * self.in_channels, kernel_size, p)\n",
    "        self._down2 = UNetDown(q ** 2 * self.in_channels, q ** 3 * self.in_channels, kernel_size, p)\n",
    "        self._down3 = UNetDown(q ** 3 * self.in_channels, q ** 4 * self.in_channels, kernel_size, p)\n",
    "        self._down4 = UNetDown(q ** 4 * self.in_channels, q ** 5 * self.in_channels, kernel_size, p)\n",
    "        self._down5 = UNetDown(q ** 5 * self.in_channels, q ** 6 * self.in_channels, kernel_size, p)\n",
    "    \n",
    "    def forward(self, x):\n",
    "        x1 = self._input(x)\n",
    "        x2 = self._down1(x1)\n",
    "        x3 = self._down2(x2)\n",
    "        x4 = self._down3(x3)\n",
    "        x5 = self._down4(x4)\n",
    "        print(\"end of encoder\")\n",
    "        return x1, x2, x3, x4, x5, self._down5(x5)\n",
    "\n",
    "\n",
    "class Decoder(nn.Module):\n",
    "    def __init__(self, encoder: Encoder, num_classes, reshape=False):\n",
    "        super(Decoder, self).__init__()\n",
    "        print(\"we are here\")\n",
    "        self.encoder = encoder\n",
    "        self._up1 = UNetUp(encoder.q ** 6 * encoder.in_channels, \n",
    "                           encoder.q ** 5 *encoder.in_channels, \n",
    "                           encoder.q ** 5 * encoder.in_channels, \n",
    "                           encoder.kernel_size,\n",
    "                           encoder.p)\n",
    "\n",
    "        self._up2 = UNetUp(encoder.q ** 5 * encoder.in_channels, \n",
    "                           encoder.q ** 4 *encoder.in_channels, \n",
    "                           encoder.q ** 4 * encoder.in_channels, \n",
    "                           encoder.kernel_size,\n",
    "                           encoder.p)\n",
    "        \n",
    "        self._up3 = UNetUp(encoder.q ** 4 * encoder.in_channels, \n",
    "                           encoder.q ** 3 *encoder.in_channels, \n",
    "                           encoder.q ** 3 * encoder.in_channels, \n",
    "                           encoder.kernel_size,\n",
    "                           encoder.p)\n",
    "        \n",
    "        self._up4 = UNetUp(encoder.q ** 3 * encoder.in_channels, \n",
    "                           encoder.q ** 2 *encoder.in_channels,\n",
    "                           encoder.q ** 2 * encoder.in_channels, \n",
    "                           encoder.kernel_size,\n",
    "                           encoder.p)\n",
    "\n",
    "        self._up5 = UNetUp(encoder.q ** 2 * encoder.in_channels, \n",
    "                           encoder.q ** 1 *encoder.in_channels,\n",
    "                           num_classes,\n",
    "                           encoder.kernel_size,\n",
    "                           encoder.p)\n",
    "        \n",
    "        self._output = nn.Conv1d(num_classes, num_classes, kernel_size=1)\n",
    "        self.reshape = reshape\n",
    "        self.num_classes = num_classes\n",
    "        \n",
    "    def forward(self, x1, x2, x3, x4, x5, x):\n",
    "        print(\"start of decoder\")\n",
    "        batch_size = len(x)\n",
    "        x = self._up1(x5, x)\n",
    "        x = self._up2(x4, x)\n",
    "        x = self._up3(x3, x)\n",
    "        x = self._up4(x2, x)\n",
    "        x = self._up5(x1, x)\n",
    "        x = self._output(x)\n",
    "        if self.reshape:\n",
    "            x = x.reshape(batch_size, 4, 12, -1)\n",
    "        print(\"end of decoder\")    \n",
    "        return x\n",
    "\n",
    "\n",
    "class UNetNNGU(nn.Module):\n",
    "    def __init__(self, encoder: Encoder, decoder: Decoder):\n",
    "        super(UNetNNGU, self).__init__()\n",
    "        self.encoder = encoder\n",
    "        self.decoder = decoder\n",
    "    \n",
    "    def forward(self, x):\n",
    "        x1, x2, x3, x4, x5, x = self.encoder(x) \n",
    "        print(type(self.decoder))\n",
    "        a = self.decoder(x1, x2, x3, x4, x5, x)\n",
    "        print(type(a))\n",
    "        return a\n",
    "    \n",
    "    def log(self):\n",
    "        return f\"UNet(in_channels={self.encoder.in_channels}, num_classes={self.decoder.num_classes}, \" \\\n",
    "                    f\"q={self.encoder.q}, reshape={self.decoder.reshape}, kernel_size={self.encoder.kernel_size})\""
   ]
  },
  {
   "cell_type": "code",
   "execution_count": 11,
   "id": "27e8109a-a873-4216-9dba-f3fc063e9ab1",
   "metadata": {},
   "outputs": [
    {
     "ename": "NameError",
     "evalue": "name 'Encoder' is not defined",
     "output_type": "error",
     "traceback": [
      "\u001b[0;31m---------------------------------------------------------------------------\u001b[0m",
      "\u001b[0;31mNameError\u001b[0m                                 Traceback (most recent call last)",
      "Cell \u001b[0;32mIn[11], line 6\u001b[0m\n\u001b[1;32m      3\u001b[0m length \u001b[38;5;241m=\u001b[39m \u001b[38;5;241m5000\u001b[39m\n\u001b[1;32m      4\u001b[0m num_classes \u001b[38;5;241m=\u001b[39m \u001b[38;5;241m4\u001b[39m\n\u001b[0;32m----> 6\u001b[0m encoder \u001b[38;5;241m=\u001b[39m \u001b[43mEncoder\u001b[49m(num_channels, kernel_size\u001b[38;5;241m=\u001b[39m\u001b[38;5;241m23\u001b[39m, q\u001b[38;5;241m=\u001b[39m\u001b[38;5;241m1.2\u001b[39m, p\u001b[38;5;241m=\u001b[39m\u001b[38;5;241m0.1\u001b[39m)\n\u001b[1;32m      7\u001b[0m decoder \u001b[38;5;241m=\u001b[39m Decoder(encoder, num_classes)\n\u001b[1;32m      8\u001b[0m model \u001b[38;5;241m=\u001b[39m UNetNNGU(encoder, decoder)\u001b[38;5;241m.\u001b[39mto(device)\n",
      "\u001b[0;31mNameError\u001b[0m: name 'Encoder' is not defined"
     ]
    }
   ],
   "source": [
    "batch_size = 2\n",
    "num_channels = 12\n",
    "length = 5000\n",
    "num_classes = 4\n",
    "\n",
    "encoder = Encoder(num_channels, kernel_size=23, q=1.2, p=0.1)\n",
    "decoder = Decoder(encoder, num_classes)\n",
    "model = UNetNNGU(encoder, decoder).to(device)\n",
    "\n",
    "# Подготовим случайные входные данные\n",
    "inputs = torch.randn(batch_size, num_channels, length)\n",
    "# Прогоним через сеть\n",
    "outputs = model(inputs.to(device))\n",
    "\n",
    "# Проверим размерность выхода\n",
    "print(outputs.shape)"
   ]
  },
  {
   "cell_type": "markdown",
   "id": "746d38c1-7899-4490-a1b4-f0dd3da4e18b",
   "metadata": {},
   "source": [
    "Натренируем модель:"
   ]
  },
  {
   "cell_type": "code",
   "execution_count": 110,
   "id": "8d8a6266-30d9-478b-b500-167b420e7097",
   "metadata": {},
   "outputs": [
    {
     "name": "stdout",
     "output_type": "stream",
     "text": [
      "end of encoder\n",
      "<class 'int'>\n"
     ]
    },
    {
     "ename": "TypeError",
     "evalue": "'int' object is not callable",
     "output_type": "error",
     "traceback": [
      "\u001b[0;31m---------------------------------------------------------------------------\u001b[0m",
      "\u001b[0;31mTypeError\u001b[0m                                 Traceback (most recent call last)",
      "Cell \u001b[0;32mIn[110], line 5\u001b[0m\n\u001b[1;32m      2\u001b[0m model \u001b[38;5;241m=\u001b[39m UNetNNGU(encoder, num_classes)\n\u001b[1;32m      4\u001b[0m \u001b[38;5;66;03m# Тренировка модели\u001b[39;00m\n\u001b[0;32m----> 5\u001b[0m \u001b[43mtrain\u001b[49m\u001b[43m(\u001b[49m\u001b[43mmodel\u001b[49m\u001b[43m,\u001b[49m\u001b[43m \u001b[49m\u001b[43mtrain_loader\u001b[49m\u001b[43m)\u001b[49m\n",
      "Cell \u001b[0;32mIn[42], line 12\u001b[0m, in \u001b[0;36mtrain\u001b[0;34m(model, train_loader, num_epochs, learning_rate)\u001b[0m\n\u001b[1;32m     10\u001b[0m targets \u001b[38;5;241m=\u001b[39m targets[:, \u001b[38;5;241m0\u001b[39m, :]\u001b[38;5;241m.\u001b[39mto(device)\n\u001b[1;32m     11\u001b[0m optimizer\u001b[38;5;241m.\u001b[39mzero_grad()\n\u001b[0;32m---> 12\u001b[0m outputs \u001b[38;5;241m=\u001b[39m \u001b[43mmodel\u001b[49m\u001b[43m(\u001b[49m\u001b[43minputs\u001b[49m\u001b[38;5;241;43m.\u001b[39;49m\u001b[43mto\u001b[49m\u001b[43m(\u001b[49m\u001b[43mdevice\u001b[49m\u001b[43m)\u001b[49m\u001b[43m)\u001b[49m\n\u001b[1;32m     13\u001b[0m loss \u001b[38;5;241m=\u001b[39m criterion(outputs\u001b[38;5;241m.\u001b[39mto(device), targets)\n\u001b[1;32m     14\u001b[0m loss\u001b[38;5;241m.\u001b[39mbackward()\n",
      "File \u001b[0;32m~/venv/lib/python3.10/site-packages/torch/nn/modules/module.py:1511\u001b[0m, in \u001b[0;36mModule._wrapped_call_impl\u001b[0;34m(self, *args, **kwargs)\u001b[0m\n\u001b[1;32m   1509\u001b[0m     \u001b[38;5;28;01mreturn\u001b[39;00m \u001b[38;5;28mself\u001b[39m\u001b[38;5;241m.\u001b[39m_compiled_call_impl(\u001b[38;5;241m*\u001b[39margs, \u001b[38;5;241m*\u001b[39m\u001b[38;5;241m*\u001b[39mkwargs)  \u001b[38;5;66;03m# type: ignore[misc]\u001b[39;00m\n\u001b[1;32m   1510\u001b[0m \u001b[38;5;28;01melse\u001b[39;00m:\n\u001b[0;32m-> 1511\u001b[0m     \u001b[38;5;28;01mreturn\u001b[39;00m \u001b[38;5;28;43mself\u001b[39;49m\u001b[38;5;241;43m.\u001b[39;49m\u001b[43m_call_impl\u001b[49m\u001b[43m(\u001b[49m\u001b[38;5;241;43m*\u001b[39;49m\u001b[43margs\u001b[49m\u001b[43m,\u001b[49m\u001b[43m \u001b[49m\u001b[38;5;241;43m*\u001b[39;49m\u001b[38;5;241;43m*\u001b[39;49m\u001b[43mkwargs\u001b[49m\u001b[43m)\u001b[49m\n",
      "File \u001b[0;32m~/venv/lib/python3.10/site-packages/torch/nn/modules/module.py:1520\u001b[0m, in \u001b[0;36mModule._call_impl\u001b[0;34m(self, *args, **kwargs)\u001b[0m\n\u001b[1;32m   1515\u001b[0m \u001b[38;5;66;03m# If we don't have any hooks, we want to skip the rest of the logic in\u001b[39;00m\n\u001b[1;32m   1516\u001b[0m \u001b[38;5;66;03m# this function, and just call forward.\u001b[39;00m\n\u001b[1;32m   1517\u001b[0m \u001b[38;5;28;01mif\u001b[39;00m \u001b[38;5;129;01mnot\u001b[39;00m (\u001b[38;5;28mself\u001b[39m\u001b[38;5;241m.\u001b[39m_backward_hooks \u001b[38;5;129;01mor\u001b[39;00m \u001b[38;5;28mself\u001b[39m\u001b[38;5;241m.\u001b[39m_backward_pre_hooks \u001b[38;5;129;01mor\u001b[39;00m \u001b[38;5;28mself\u001b[39m\u001b[38;5;241m.\u001b[39m_forward_hooks \u001b[38;5;129;01mor\u001b[39;00m \u001b[38;5;28mself\u001b[39m\u001b[38;5;241m.\u001b[39m_forward_pre_hooks\n\u001b[1;32m   1518\u001b[0m         \u001b[38;5;129;01mor\u001b[39;00m _global_backward_pre_hooks \u001b[38;5;129;01mor\u001b[39;00m _global_backward_hooks\n\u001b[1;32m   1519\u001b[0m         \u001b[38;5;129;01mor\u001b[39;00m _global_forward_hooks \u001b[38;5;129;01mor\u001b[39;00m _global_forward_pre_hooks):\n\u001b[0;32m-> 1520\u001b[0m     \u001b[38;5;28;01mreturn\u001b[39;00m \u001b[43mforward_call\u001b[49m\u001b[43m(\u001b[49m\u001b[38;5;241;43m*\u001b[39;49m\u001b[43margs\u001b[49m\u001b[43m,\u001b[49m\u001b[43m \u001b[49m\u001b[38;5;241;43m*\u001b[39;49m\u001b[38;5;241;43m*\u001b[39;49m\u001b[43mkwargs\u001b[49m\u001b[43m)\u001b[49m\n\u001b[1;32m   1522\u001b[0m \u001b[38;5;28;01mtry\u001b[39;00m:\n\u001b[1;32m   1523\u001b[0m     result \u001b[38;5;241m=\u001b[39m \u001b[38;5;28;01mNone\u001b[39;00m\n",
      "Cell \u001b[0;32mIn[108], line 139\u001b[0m, in \u001b[0;36mUNetNNGU.forward\u001b[0;34m(self, x)\u001b[0m\n\u001b[1;32m    137\u001b[0m x1, x2, x3, x4, x5, x \u001b[38;5;241m=\u001b[39m \u001b[38;5;28mself\u001b[39m\u001b[38;5;241m.\u001b[39mencoder(x) \n\u001b[1;32m    138\u001b[0m \u001b[38;5;28mprint\u001b[39m(\u001b[38;5;28mtype\u001b[39m(\u001b[38;5;28mself\u001b[39m\u001b[38;5;241m.\u001b[39mdecoder))\n\u001b[0;32m--> 139\u001b[0m a \u001b[38;5;241m=\u001b[39m \u001b[38;5;28;43mself\u001b[39;49m\u001b[38;5;241;43m.\u001b[39;49m\u001b[43mdecoder\u001b[49m\u001b[43m(\u001b[49m\u001b[43mx1\u001b[49m\u001b[43m,\u001b[49m\u001b[43m \u001b[49m\u001b[43mx2\u001b[49m\u001b[43m,\u001b[49m\u001b[43m \u001b[49m\u001b[43mx3\u001b[49m\u001b[43m,\u001b[49m\u001b[43m \u001b[49m\u001b[43mx4\u001b[49m\u001b[43m,\u001b[49m\u001b[43m \u001b[49m\u001b[43mx5\u001b[49m\u001b[43m,\u001b[49m\u001b[43m \u001b[49m\u001b[43mx\u001b[49m\u001b[43m)\u001b[49m\n\u001b[1;32m    140\u001b[0m \u001b[38;5;28mprint\u001b[39m(\u001b[38;5;28mtype\u001b[39m(a))\n\u001b[1;32m    141\u001b[0m \u001b[38;5;28;01mreturn\u001b[39;00m a\n",
      "\u001b[0;31mTypeError\u001b[0m: 'int' object is not callable"
     ]
    }
   ],
   "source": [
    "# Создание модели\n",
    "model = UNetNNGU(encoder, num_classes)\n",
    "\n",
    "# Тренировка модели\n",
    "train(model, train_loader)"
   ]
  },
  {
   "cell_type": "code",
   "execution_count": null,
   "id": "da361a26-8fe8-41af-8560-eb12671ea018",
   "metadata": {},
   "outputs": [],
   "source": []
  }
 ],
 "metadata": {
  "kernelspec": {
   "display_name": "Python 3 (ipykernel)",
   "language": "python",
   "name": "python3"
  },
  "language_info": {
   "codemirror_mode": {
    "name": "ipython",
    "version": 3
   },
   "file_extension": ".py",
   "mimetype": "text/x-python",
   "name": "python",
   "nbconvert_exporter": "python",
   "pygments_lexer": "ipython3",
   "version": "3.10.12"
  }
 },
 "nbformat": 4,
 "nbformat_minor": 5
}
